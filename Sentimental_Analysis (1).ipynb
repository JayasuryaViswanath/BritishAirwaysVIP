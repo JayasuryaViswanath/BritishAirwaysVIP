{
  "cells": [
    {
      "cell_type": "markdown",
      "metadata": {
        "id": "TJ75TeaEv0uj"
      },
      "source": [
        "# Task 1\n",
        "\n",
        "---\n",
        "\n",
        "## Web scraping and analysis\n",
        "\n",
        "This Jupyter notebook includes some code to get you started with web scraping. We will use a package called `BeautifulSoup` to collect the data from the web. Once you've collected your data and saved it into a local `.csv` file you should start with your analysis.\n",
        "\n",
        "### Scraping data from Skytrax\n",
        "\n",
        "If you visit [https://www.airlinequality.com] you can see that there is a lot of data there. For this task, we are only interested in reviews related to British Airways and the Airline itself.\n",
        "\n",
        "If you navigate to this link: [https://www.airlinequality.com/airline-reviews/british-airways] you will see this data. Now, we can use `Python` and `BeautifulSoup` to collect all the links to the reviews and then to collect the text data on each of the individual review links."
      ]
    },
    {
      "cell_type": "code",
      "execution_count": 1,
      "metadata": {
        "id": "Flso6uwmv0um"
      },
      "outputs": [],
      "source": [
        "import requests\n",
        "from bs4 import BeautifulSoup\n",
        "import pandas as pd"
      ]
    },
    {
      "cell_type": "code",
      "execution_count": 2,
      "metadata": {
        "colab": {
          "base_uri": "https://localhost:8080/"
        },
        "id": "NBx65Tilv0uo",
        "outputId": "7ea8b053-d4d4-49bb-d41d-f684b20aceca"
      },
      "outputs": [
        {
          "output_type": "stream",
          "name": "stdout",
          "text": [
            "Scraping page 1\n",
            "   ---> 100 total reviews\n",
            "Scraping page 2\n",
            "   ---> 200 total reviews\n",
            "Scraping page 3\n",
            "   ---> 300 total reviews\n",
            "Scraping page 4\n",
            "   ---> 400 total reviews\n",
            "Scraping page 5\n",
            "   ---> 500 total reviews\n",
            "Scraping page 6\n",
            "   ---> 600 total reviews\n",
            "Scraping page 7\n",
            "   ---> 700 total reviews\n",
            "Scraping page 8\n",
            "   ---> 800 total reviews\n",
            "Scraping page 9\n",
            "   ---> 900 total reviews\n",
            "Scraping page 10\n",
            "   ---> 1000 total reviews\n"
          ]
        }
      ],
      "source": [
        "base_url = \"https://www.airlinequality.com/airline-reviews/british-airways\"\n",
        "pages = 10\n",
        "page_size = 100\n",
        "\n",
        "reviews = []\n",
        "\n",
        "# for i in range(1, pages + 1):\n",
        "for i in range(1, pages + 1):\n",
        "\n",
        "    print(f\"Scraping page {i}\")\n",
        "\n",
        "    # Create URL to collect links from paginated data\n",
        "    url = f\"{base_url}/page/{i}/?sortby=post_date%3ADesc&pagesize={page_size}\"\n",
        "\n",
        "    # Collect HTML data from this page\n",
        "    response = requests.get(url)\n",
        "\n",
        "    # Parse content\n",
        "    content = response.content\n",
        "    parsed_content = BeautifulSoup(content, 'html.parser')\n",
        "    for para in parsed_content.find_all(\"div\", {\"class\": \"text_content\"}):\n",
        "        reviews.append(para.get_text())\n",
        "    \n",
        "    print(f\"   ---> {len(reviews)} total reviews\")"
      ]
    },
    {
      "cell_type": "code",
      "execution_count": 3,
      "metadata": {
        "colab": {
          "base_uri": "https://localhost:8080/",
          "height": 206
        },
        "id": "xQVYjQazv0up",
        "outputId": "8cdefe17-1624-4dfd-c4d3-c3990167e8a9"
      },
      "outputs": [
        {
          "output_type": "execute_result",
          "data": {
            "text/plain": [
              "                                             reviews\n",
              "0  ✅ Trip Verified |  Old A320 with narrow pitch....\n",
              "1  ✅ Trip Verified |  Another BA Shambles. Starte...\n",
              "2  Not Verified |  BA cancelled my flight home to...\n",
              "3  Not Verified |  BA cancelled my flight home, t...\n",
              "4  ✅ Trip Verified | Turned up 3.5 hours in advan..."
            ],
            "text/html": [
              "\n",
              "  <div id=\"df-437af270-3948-4697-9751-62422915f3af\">\n",
              "    <div class=\"colab-df-container\">\n",
              "      <div>\n",
              "<style scoped>\n",
              "    .dataframe tbody tr th:only-of-type {\n",
              "        vertical-align: middle;\n",
              "    }\n",
              "\n",
              "    .dataframe tbody tr th {\n",
              "        vertical-align: top;\n",
              "    }\n",
              "\n",
              "    .dataframe thead th {\n",
              "        text-align: right;\n",
              "    }\n",
              "</style>\n",
              "<table border=\"1\" class=\"dataframe\">\n",
              "  <thead>\n",
              "    <tr style=\"text-align: right;\">\n",
              "      <th></th>\n",
              "      <th>reviews</th>\n",
              "    </tr>\n",
              "  </thead>\n",
              "  <tbody>\n",
              "    <tr>\n",
              "      <th>0</th>\n",
              "      <td>✅ Trip Verified |  Old A320 with narrow pitch....</td>\n",
              "    </tr>\n",
              "    <tr>\n",
              "      <th>1</th>\n",
              "      <td>✅ Trip Verified |  Another BA Shambles. Starte...</td>\n",
              "    </tr>\n",
              "    <tr>\n",
              "      <th>2</th>\n",
              "      <td>Not Verified |  BA cancelled my flight home to...</td>\n",
              "    </tr>\n",
              "    <tr>\n",
              "      <th>3</th>\n",
              "      <td>Not Verified |  BA cancelled my flight home, t...</td>\n",
              "    </tr>\n",
              "    <tr>\n",
              "      <th>4</th>\n",
              "      <td>✅ Trip Verified | Turned up 3.5 hours in advan...</td>\n",
              "    </tr>\n",
              "  </tbody>\n",
              "</table>\n",
              "</div>\n",
              "      <button class=\"colab-df-convert\" onclick=\"convertToInteractive('df-437af270-3948-4697-9751-62422915f3af')\"\n",
              "              title=\"Convert this dataframe to an interactive table.\"\n",
              "              style=\"display:none;\">\n",
              "        \n",
              "  <svg xmlns=\"http://www.w3.org/2000/svg\" height=\"24px\"viewBox=\"0 0 24 24\"\n",
              "       width=\"24px\">\n",
              "    <path d=\"M0 0h24v24H0V0z\" fill=\"none\"/>\n",
              "    <path d=\"M18.56 5.44l.94 2.06.94-2.06 2.06-.94-2.06-.94-.94-2.06-.94 2.06-2.06.94zm-11 1L8.5 8.5l.94-2.06 2.06-.94-2.06-.94L8.5 2.5l-.94 2.06-2.06.94zm10 10l.94 2.06.94-2.06 2.06-.94-2.06-.94-.94-2.06-.94 2.06-2.06.94z\"/><path d=\"M17.41 7.96l-1.37-1.37c-.4-.4-.92-.59-1.43-.59-.52 0-1.04.2-1.43.59L10.3 9.45l-7.72 7.72c-.78.78-.78 2.05 0 2.83L4 21.41c.39.39.9.59 1.41.59.51 0 1.02-.2 1.41-.59l7.78-7.78 2.81-2.81c.8-.78.8-2.07 0-2.86zM5.41 20L4 18.59l7.72-7.72 1.47 1.35L5.41 20z\"/>\n",
              "  </svg>\n",
              "      </button>\n",
              "      \n",
              "  <style>\n",
              "    .colab-df-container {\n",
              "      display:flex;\n",
              "      flex-wrap:wrap;\n",
              "      gap: 12px;\n",
              "    }\n",
              "\n",
              "    .colab-df-convert {\n",
              "      background-color: #E8F0FE;\n",
              "      border: none;\n",
              "      border-radius: 50%;\n",
              "      cursor: pointer;\n",
              "      display: none;\n",
              "      fill: #1967D2;\n",
              "      height: 32px;\n",
              "      padding: 0 0 0 0;\n",
              "      width: 32px;\n",
              "    }\n",
              "\n",
              "    .colab-df-convert:hover {\n",
              "      background-color: #E2EBFA;\n",
              "      box-shadow: 0px 1px 2px rgba(60, 64, 67, 0.3), 0px 1px 3px 1px rgba(60, 64, 67, 0.15);\n",
              "      fill: #174EA6;\n",
              "    }\n",
              "\n",
              "    [theme=dark] .colab-df-convert {\n",
              "      background-color: #3B4455;\n",
              "      fill: #D2E3FC;\n",
              "    }\n",
              "\n",
              "    [theme=dark] .colab-df-convert:hover {\n",
              "      background-color: #434B5C;\n",
              "      box-shadow: 0px 1px 3px 1px rgba(0, 0, 0, 0.15);\n",
              "      filter: drop-shadow(0px 1px 2px rgba(0, 0, 0, 0.3));\n",
              "      fill: #FFFFFF;\n",
              "    }\n",
              "  </style>\n",
              "\n",
              "      <script>\n",
              "        const buttonEl =\n",
              "          document.querySelector('#df-437af270-3948-4697-9751-62422915f3af button.colab-df-convert');\n",
              "        buttonEl.style.display =\n",
              "          google.colab.kernel.accessAllowed ? 'block' : 'none';\n",
              "\n",
              "        async function convertToInteractive(key) {\n",
              "          const element = document.querySelector('#df-437af270-3948-4697-9751-62422915f3af');\n",
              "          const dataTable =\n",
              "            await google.colab.kernel.invokeFunction('convertToInteractive',\n",
              "                                                     [key], {});\n",
              "          if (!dataTable) return;\n",
              "\n",
              "          const docLinkHtml = 'Like what you see? Visit the ' +\n",
              "            '<a target=\"_blank\" href=https://colab.research.google.com/notebooks/data_table.ipynb>data table notebook</a>'\n",
              "            + ' to learn more about interactive tables.';\n",
              "          element.innerHTML = '';\n",
              "          dataTable['output_type'] = 'display_data';\n",
              "          await google.colab.output.renderOutput(dataTable, element);\n",
              "          const docLink = document.createElement('div');\n",
              "          docLink.innerHTML = docLinkHtml;\n",
              "          element.appendChild(docLink);\n",
              "        }\n",
              "      </script>\n",
              "    </div>\n",
              "  </div>\n",
              "  "
            ]
          },
          "metadata": {},
          "execution_count": 3
        }
      ],
      "source": [
        "df = pd.DataFrame()\n",
        "df[\"reviews\"] = reviews\n",
        "df.head()"
      ]
    },
    {
      "cell_type": "markdown",
      "metadata": {
        "id": "oCieSZDmv0uq"
      },
      "source": [
        "Congratulations! Now you have your dataset for this task! The loops above collected 1000 reviews by iterating through the paginated pages on the website. However, if you want to collect more data, try increasing the number of pages!\n",
        "\n",
        " The next thing that you should do is clean this data to remove any unnecessary text from each of the rows. For example, \"✅ Trip Verified\" can be removed from each row if it exists, as it's not relevant to what we want to investigate."
      ]
    },
    {
      "cell_type": "code",
      "execution_count": 5,
      "metadata": {
        "colab": {
          "base_uri": "https://localhost:8080/"
        },
        "id": "-x8CCEmov0ur",
        "outputId": "b7f7f9f9-7050-4da7-f3b2-e2e1f4c9d3b5"
      },
      "outputs": [
        {
          "output_type": "stream",
          "name": "stderr",
          "text": [
            "<ipython-input-5-7550ccf233a5>:2: FutureWarning: The default value of regex will change from True to False in a future version.\n",
            "  df['reviews'] = df['reviews'].str.replace('✅ Trip Verified |', '')\n"
          ]
        }
      ],
      "source": [
        "#Removing  '✅ Trip Verified |' using regular expressions\n",
        "df['reviews'] = df['reviews'].str.replace('✅ Trip Verified |', '')"
      ]
    },
    {
      "cell_type": "code",
      "source": [
        "df['reviews'] = df['reviews'].str.replace('|','')"
      ],
      "metadata": {
        "colab": {
          "base_uri": "https://localhost:8080/"
        },
        "id": "c9IEGkJDyCAH",
        "outputId": "a68b2240-78ba-4fe5-f91a-c764ed7dca2f"
      },
      "execution_count": 6,
      "outputs": [
        {
          "output_type": "stream",
          "name": "stderr",
          "text": [
            "<ipython-input-6-0b8a351dcaa9>:1: FutureWarning: The default value of regex will change from True to False in a future version. In addition, single character regular expressions will *not* be treated as literal strings when regex=True.\n",
            "  df['reviews'] = df['reviews'].str.replace('|','')\n"
          ]
        }
      ]
    },
    {
      "cell_type": "code",
      "source": [
        "#importing nltk\n",
        "import nltk\n",
        "nltk.download([\"names\",\"stopwords\",\"state_union\",\"twitter_samples\",\"movie_reviews\",\"averaged_perceptron_tagger\",\"vader_lexicon\",\"punkt\"])"
      ],
      "metadata": {
        "colab": {
          "base_uri": "https://localhost:8080/"
        },
        "id": "ppVVlzRtyQSf",
        "outputId": "af5f0bfa-7d4c-40b4-9b4f-a8dffc1ed6e9"
      },
      "execution_count": 7,
      "outputs": [
        {
          "output_type": "stream",
          "name": "stderr",
          "text": [
            "[nltk_data] Downloading package names to /root/nltk_data...\n",
            "[nltk_data]   Unzipping corpora/names.zip.\n",
            "[nltk_data] Downloading package stopwords to /root/nltk_data...\n",
            "[nltk_data]   Unzipping corpora/stopwords.zip.\n",
            "[nltk_data] Downloading package state_union to /root/nltk_data...\n",
            "[nltk_data]   Unzipping corpora/state_union.zip.\n",
            "[nltk_data] Downloading package twitter_samples to /root/nltk_data...\n",
            "[nltk_data]   Unzipping corpora/twitter_samples.zip.\n",
            "[nltk_data] Downloading package movie_reviews to /root/nltk_data...\n",
            "[nltk_data]   Unzipping corpora/movie_reviews.zip.\n",
            "[nltk_data] Downloading package averaged_perceptron_tagger to\n",
            "[nltk_data]     /root/nltk_data...\n",
            "[nltk_data]   Unzipping taggers/averaged_perceptron_tagger.zip.\n",
            "[nltk_data] Downloading package vader_lexicon to /root/nltk_data...\n",
            "[nltk_data] Downloading package punkt to /root/nltk_data...\n",
            "[nltk_data]   Unzipping tokenizers/punkt.zip.\n"
          ]
        },
        {
          "output_type": "execute_result",
          "data": {
            "text/plain": [
              "True"
            ]
          },
          "metadata": {},
          "execution_count": 7
        }
      ]
    },
    {
      "cell_type": "code",
      "source": [
        "nltk.download('shakespeare')"
      ],
      "metadata": {
        "colab": {
          "base_uri": "https://localhost:8080/"
        },
        "id": "ZeyACkexzOhn",
        "outputId": "35ecd1c2-9807-4e0f-c284-6c4f91df526a"
      },
      "execution_count": 8,
      "outputs": [
        {
          "output_type": "stream",
          "name": "stderr",
          "text": [
            "[nltk_data] Downloading package shakespeare to /root/nltk_data...\n",
            "[nltk_data]   Unzipping corpora/shakespeare.zip.\n"
          ]
        },
        {
          "output_type": "execute_result",
          "data": {
            "text/plain": [
              "True"
            ]
          },
          "metadata": {},
          "execution_count": 8
        }
      ]
    },
    {
      "cell_type": "code",
      "source": [
        "words = [w for w in nltk.corpus.state_union.words() if w.isalpha()]"
      ],
      "metadata": {
        "id": "iPayPrI0zOkq"
      },
      "execution_count": 9,
      "outputs": []
    },
    {
      "cell_type": "code",
      "source": [
        "stopwords = nltk.corpus.stopwords.words(\"english\")"
      ],
      "metadata": {
        "id": "OajjoJHPzOoF"
      },
      "execution_count": 10,
      "outputs": []
    },
    {
      "cell_type": "code",
      "source": [
        "words = [w for w in words if w.lower() not in stopwords]"
      ],
      "metadata": {
        "id": "1JeUcSG8zOrY"
      },
      "execution_count": 11,
      "outputs": []
    },
    {
      "cell_type": "code",
      "source": [
        "#breaking the sentences in each row into tokens\n",
        "\n",
        "from nltk.tokenize import RegexpTokenizer\n",
        "\n",
        "regexp = RegexpTokenizer('\\w+')\n",
        "df['text_token']=df['reviews'].apply(regexp.tokenize)\n",
        "df.head(3)"
      ],
      "metadata": {
        "colab": {
          "base_uri": "https://localhost:8080/",
          "height": 143
        },
        "id": "omJgjLg2zOum",
        "outputId": "8ea94284-13d4-4846-a723-7c49d556e1c7"
      },
      "execution_count": 14,
      "outputs": [
        {
          "output_type": "execute_result",
          "data": {
            "text/plain": [
              "                                             reviews  \\\n",
              "0    Old A320 with narrow pitch. Flight perfectly...   \n",
              "1    Another BA Shambles. Started off well with e...   \n",
              "2  Not Verified   BA cancelled my flight home to ...   \n",
              "\n",
              "                                          text_token  \n",
              "0  [Old, A320, with, narrow, pitch, Flight, perfe...  \n",
              "1  [Another, BA, Shambles, Started, off, well, wi...  \n",
              "2  [Not, Verified, BA, cancelled, my, flight, hom...  "
            ],
            "text/html": [
              "\n",
              "  <div id=\"df-2b8d6e96-939a-444f-be81-5cfd42cbc7c6\">\n",
              "    <div class=\"colab-df-container\">\n",
              "      <div>\n",
              "<style scoped>\n",
              "    .dataframe tbody tr th:only-of-type {\n",
              "        vertical-align: middle;\n",
              "    }\n",
              "\n",
              "    .dataframe tbody tr th {\n",
              "        vertical-align: top;\n",
              "    }\n",
              "\n",
              "    .dataframe thead th {\n",
              "        text-align: right;\n",
              "    }\n",
              "</style>\n",
              "<table border=\"1\" class=\"dataframe\">\n",
              "  <thead>\n",
              "    <tr style=\"text-align: right;\">\n",
              "      <th></th>\n",
              "      <th>reviews</th>\n",
              "      <th>text_token</th>\n",
              "    </tr>\n",
              "  </thead>\n",
              "  <tbody>\n",
              "    <tr>\n",
              "      <th>0</th>\n",
              "      <td>Old A320 with narrow pitch. Flight perfectly...</td>\n",
              "      <td>[Old, A320, with, narrow, pitch, Flight, perfe...</td>\n",
              "    </tr>\n",
              "    <tr>\n",
              "      <th>1</th>\n",
              "      <td>Another BA Shambles. Started off well with e...</td>\n",
              "      <td>[Another, BA, Shambles, Started, off, well, wi...</td>\n",
              "    </tr>\n",
              "    <tr>\n",
              "      <th>2</th>\n",
              "      <td>Not Verified   BA cancelled my flight home to ...</td>\n",
              "      <td>[Not, Verified, BA, cancelled, my, flight, hom...</td>\n",
              "    </tr>\n",
              "  </tbody>\n",
              "</table>\n",
              "</div>\n",
              "      <button class=\"colab-df-convert\" onclick=\"convertToInteractive('df-2b8d6e96-939a-444f-be81-5cfd42cbc7c6')\"\n",
              "              title=\"Convert this dataframe to an interactive table.\"\n",
              "              style=\"display:none;\">\n",
              "        \n",
              "  <svg xmlns=\"http://www.w3.org/2000/svg\" height=\"24px\"viewBox=\"0 0 24 24\"\n",
              "       width=\"24px\">\n",
              "    <path d=\"M0 0h24v24H0V0z\" fill=\"none\"/>\n",
              "    <path d=\"M18.56 5.44l.94 2.06.94-2.06 2.06-.94-2.06-.94-.94-2.06-.94 2.06-2.06.94zm-11 1L8.5 8.5l.94-2.06 2.06-.94-2.06-.94L8.5 2.5l-.94 2.06-2.06.94zm10 10l.94 2.06.94-2.06 2.06-.94-2.06-.94-.94-2.06-.94 2.06-2.06.94z\"/><path d=\"M17.41 7.96l-1.37-1.37c-.4-.4-.92-.59-1.43-.59-.52 0-1.04.2-1.43.59L10.3 9.45l-7.72 7.72c-.78.78-.78 2.05 0 2.83L4 21.41c.39.39.9.59 1.41.59.51 0 1.02-.2 1.41-.59l7.78-7.78 2.81-2.81c.8-.78.8-2.07 0-2.86zM5.41 20L4 18.59l7.72-7.72 1.47 1.35L5.41 20z\"/>\n",
              "  </svg>\n",
              "      </button>\n",
              "      \n",
              "  <style>\n",
              "    .colab-df-container {\n",
              "      display:flex;\n",
              "      flex-wrap:wrap;\n",
              "      gap: 12px;\n",
              "    }\n",
              "\n",
              "    .colab-df-convert {\n",
              "      background-color: #E8F0FE;\n",
              "      border: none;\n",
              "      border-radius: 50%;\n",
              "      cursor: pointer;\n",
              "      display: none;\n",
              "      fill: #1967D2;\n",
              "      height: 32px;\n",
              "      padding: 0 0 0 0;\n",
              "      width: 32px;\n",
              "    }\n",
              "\n",
              "    .colab-df-convert:hover {\n",
              "      background-color: #E2EBFA;\n",
              "      box-shadow: 0px 1px 2px rgba(60, 64, 67, 0.3), 0px 1px 3px 1px rgba(60, 64, 67, 0.15);\n",
              "      fill: #174EA6;\n",
              "    }\n",
              "\n",
              "    [theme=dark] .colab-df-convert {\n",
              "      background-color: #3B4455;\n",
              "      fill: #D2E3FC;\n",
              "    }\n",
              "\n",
              "    [theme=dark] .colab-df-convert:hover {\n",
              "      background-color: #434B5C;\n",
              "      box-shadow: 0px 1px 3px 1px rgba(0, 0, 0, 0.15);\n",
              "      filter: drop-shadow(0px 1px 2px rgba(0, 0, 0, 0.3));\n",
              "      fill: #FFFFFF;\n",
              "    }\n",
              "  </style>\n",
              "\n",
              "      <script>\n",
              "        const buttonEl =\n",
              "          document.querySelector('#df-2b8d6e96-939a-444f-be81-5cfd42cbc7c6 button.colab-df-convert');\n",
              "        buttonEl.style.display =\n",
              "          google.colab.kernel.accessAllowed ? 'block' : 'none';\n",
              "\n",
              "        async function convertToInteractive(key) {\n",
              "          const element = document.querySelector('#df-2b8d6e96-939a-444f-be81-5cfd42cbc7c6');\n",
              "          const dataTable =\n",
              "            await google.colab.kernel.invokeFunction('convertToInteractive',\n",
              "                                                     [key], {});\n",
              "          if (!dataTable) return;\n",
              "\n",
              "          const docLinkHtml = 'Like what you see? Visit the ' +\n",
              "            '<a target=\"_blank\" href=https://colab.research.google.com/notebooks/data_table.ipynb>data table notebook</a>'\n",
              "            + ' to learn more about interactive tables.';\n",
              "          element.innerHTML = '';\n",
              "          dataTable['output_type'] = 'display_data';\n",
              "          await google.colab.output.renderOutput(dataTable, element);\n",
              "          const docLink = document.createElement('div');\n",
              "          docLink.innerHTML = docLinkHtml;\n",
              "          element.appendChild(docLink);\n",
              "        }\n",
              "      </script>\n",
              "    </div>\n",
              "  </div>\n",
              "  "
            ]
          },
          "metadata": {},
          "execution_count": 14
        }
      ]
    },
    {
      "cell_type": "code",
      "source": [
        "# Remove stopwords\n",
        "df['text_token'] = df['text_token'].apply(lambda x: [item for item in x if item not in stopwords])\n",
        "df.head(3)"
      ],
      "metadata": {
        "colab": {
          "base_uri": "https://localhost:8080/",
          "height": 143
        },
        "id": "3c7_qhytzOxK",
        "outputId": "6c7e29c4-0124-42c2-f8ca-67ecb168fcda"
      },
      "execution_count": 15,
      "outputs": [
        {
          "output_type": "execute_result",
          "data": {
            "text/plain": [
              "                                             reviews  \\\n",
              "0    Old A320 with narrow pitch. Flight perfectly...   \n",
              "1    Another BA Shambles. Started off well with e...   \n",
              "2  Not Verified   BA cancelled my flight home to ...   \n",
              "\n",
              "                                          text_token  \n",
              "0  [Old, A320, narrow, pitch, Flight, perfectly, ...  \n",
              "1  [Another, BA, Shambles, Started, well, excelle...  \n",
              "2  [Not, Verified, BA, cancelled, flight, home, H...  "
            ],
            "text/html": [
              "\n",
              "  <div id=\"df-41230291-723e-4a1d-86b6-736ecaa50c9c\">\n",
              "    <div class=\"colab-df-container\">\n",
              "      <div>\n",
              "<style scoped>\n",
              "    .dataframe tbody tr th:only-of-type {\n",
              "        vertical-align: middle;\n",
              "    }\n",
              "\n",
              "    .dataframe tbody tr th {\n",
              "        vertical-align: top;\n",
              "    }\n",
              "\n",
              "    .dataframe thead th {\n",
              "        text-align: right;\n",
              "    }\n",
              "</style>\n",
              "<table border=\"1\" class=\"dataframe\">\n",
              "  <thead>\n",
              "    <tr style=\"text-align: right;\">\n",
              "      <th></th>\n",
              "      <th>reviews</th>\n",
              "      <th>text_token</th>\n",
              "    </tr>\n",
              "  </thead>\n",
              "  <tbody>\n",
              "    <tr>\n",
              "      <th>0</th>\n",
              "      <td>Old A320 with narrow pitch. Flight perfectly...</td>\n",
              "      <td>[Old, A320, narrow, pitch, Flight, perfectly, ...</td>\n",
              "    </tr>\n",
              "    <tr>\n",
              "      <th>1</th>\n",
              "      <td>Another BA Shambles. Started off well with e...</td>\n",
              "      <td>[Another, BA, Shambles, Started, well, excelle...</td>\n",
              "    </tr>\n",
              "    <tr>\n",
              "      <th>2</th>\n",
              "      <td>Not Verified   BA cancelled my flight home to ...</td>\n",
              "      <td>[Not, Verified, BA, cancelled, flight, home, H...</td>\n",
              "    </tr>\n",
              "  </tbody>\n",
              "</table>\n",
              "</div>\n",
              "      <button class=\"colab-df-convert\" onclick=\"convertToInteractive('df-41230291-723e-4a1d-86b6-736ecaa50c9c')\"\n",
              "              title=\"Convert this dataframe to an interactive table.\"\n",
              "              style=\"display:none;\">\n",
              "        \n",
              "  <svg xmlns=\"http://www.w3.org/2000/svg\" height=\"24px\"viewBox=\"0 0 24 24\"\n",
              "       width=\"24px\">\n",
              "    <path d=\"M0 0h24v24H0V0z\" fill=\"none\"/>\n",
              "    <path d=\"M18.56 5.44l.94 2.06.94-2.06 2.06-.94-2.06-.94-.94-2.06-.94 2.06-2.06.94zm-11 1L8.5 8.5l.94-2.06 2.06-.94-2.06-.94L8.5 2.5l-.94 2.06-2.06.94zm10 10l.94 2.06.94-2.06 2.06-.94-2.06-.94-.94-2.06-.94 2.06-2.06.94z\"/><path d=\"M17.41 7.96l-1.37-1.37c-.4-.4-.92-.59-1.43-.59-.52 0-1.04.2-1.43.59L10.3 9.45l-7.72 7.72c-.78.78-.78 2.05 0 2.83L4 21.41c.39.39.9.59 1.41.59.51 0 1.02-.2 1.41-.59l7.78-7.78 2.81-2.81c.8-.78.8-2.07 0-2.86zM5.41 20L4 18.59l7.72-7.72 1.47 1.35L5.41 20z\"/>\n",
              "  </svg>\n",
              "      </button>\n",
              "      \n",
              "  <style>\n",
              "    .colab-df-container {\n",
              "      display:flex;\n",
              "      flex-wrap:wrap;\n",
              "      gap: 12px;\n",
              "    }\n",
              "\n",
              "    .colab-df-convert {\n",
              "      background-color: #E8F0FE;\n",
              "      border: none;\n",
              "      border-radius: 50%;\n",
              "      cursor: pointer;\n",
              "      display: none;\n",
              "      fill: #1967D2;\n",
              "      height: 32px;\n",
              "      padding: 0 0 0 0;\n",
              "      width: 32px;\n",
              "    }\n",
              "\n",
              "    .colab-df-convert:hover {\n",
              "      background-color: #E2EBFA;\n",
              "      box-shadow: 0px 1px 2px rgba(60, 64, 67, 0.3), 0px 1px 3px 1px rgba(60, 64, 67, 0.15);\n",
              "      fill: #174EA6;\n",
              "    }\n",
              "\n",
              "    [theme=dark] .colab-df-convert {\n",
              "      background-color: #3B4455;\n",
              "      fill: #D2E3FC;\n",
              "    }\n",
              "\n",
              "    [theme=dark] .colab-df-convert:hover {\n",
              "      background-color: #434B5C;\n",
              "      box-shadow: 0px 1px 3px 1px rgba(0, 0, 0, 0.15);\n",
              "      filter: drop-shadow(0px 1px 2px rgba(0, 0, 0, 0.3));\n",
              "      fill: #FFFFFF;\n",
              "    }\n",
              "  </style>\n",
              "\n",
              "      <script>\n",
              "        const buttonEl =\n",
              "          document.querySelector('#df-41230291-723e-4a1d-86b6-736ecaa50c9c button.colab-df-convert');\n",
              "        buttonEl.style.display =\n",
              "          google.colab.kernel.accessAllowed ? 'block' : 'none';\n",
              "\n",
              "        async function convertToInteractive(key) {\n",
              "          const element = document.querySelector('#df-41230291-723e-4a1d-86b6-736ecaa50c9c');\n",
              "          const dataTable =\n",
              "            await google.colab.kernel.invokeFunction('convertToInteractive',\n",
              "                                                     [key], {});\n",
              "          if (!dataTable) return;\n",
              "\n",
              "          const docLinkHtml = 'Like what you see? Visit the ' +\n",
              "            '<a target=\"_blank\" href=https://colab.research.google.com/notebooks/data_table.ipynb>data table notebook</a>'\n",
              "            + ' to learn more about interactive tables.';\n",
              "          element.innerHTML = '';\n",
              "          dataTable['output_type'] = 'display_data';\n",
              "          await google.colab.output.renderOutput(dataTable, element);\n",
              "          const docLink = document.createElement('div');\n",
              "          docLink.innerHTML = docLinkHtml;\n",
              "          element.appendChild(docLink);\n",
              "        }\n",
              "      </script>\n",
              "    </div>\n",
              "  </div>\n",
              "  "
            ]
          },
          "metadata": {},
          "execution_count": 15
        }
      ]
    },
    {
      "cell_type": "code",
      "source": [
        "df['text_string'] = df['text_token'].apply(lambda x: ' '.join([item for item in x if len(item)>2]))"
      ],
      "metadata": {
        "id": "bVNr4qkC05CH"
      },
      "execution_count": 16,
      "outputs": []
    },
    {
      "cell_type": "code",
      "source": [
        "df[['reviews', 'text_token', 'text_string']].head()"
      ],
      "metadata": {
        "colab": {
          "base_uri": "https://localhost:8080/",
          "height": 206
        },
        "id": "7GZUhJd808xX",
        "outputId": "954b22b7-02c4-4317-e6a5-96d5ad6a9f87"
      },
      "execution_count": 17,
      "outputs": [
        {
          "output_type": "execute_result",
          "data": {
            "text/plain": [
              "                                             reviews  \\\n",
              "0    Old A320 with narrow pitch. Flight perfectly...   \n",
              "1    Another BA Shambles. Started off well with e...   \n",
              "2  Not Verified   BA cancelled my flight home to ...   \n",
              "3  Not Verified   BA cancelled my flight home, th...   \n",
              "4   Turned up 3.5 hours in advance, Terminal 5 at...   \n",
              "\n",
              "                                          text_token  \\\n",
              "0  [Old, A320, narrow, pitch, Flight, perfectly, ...   \n",
              "1  [Another, BA, Shambles, Started, well, excelle...   \n",
              "2  [Not, Verified, BA, cancelled, flight, home, H...   \n",
              "3  [Not, Verified, BA, cancelled, flight, home, l...   \n",
              "4  [Turned, 3, 5, hours, advance, Terminal, 5, Lo...   \n",
              "\n",
              "                                         text_string  \n",
              "0  Old A320 narrow pitch Flight perfectly time co...  \n",
              "1  Another Shambles Started well excellent check ...  \n",
              "2  Not Verified cancelled flight home Heathrow De...  \n",
              "3  Not Verified cancelled flight home last flight...  \n",
              "4  Turned hours advance Terminal London Heathrow ...  "
            ],
            "text/html": [
              "\n",
              "  <div id=\"df-48b75c65-3f76-44b3-9b00-daf55f2cb19b\">\n",
              "    <div class=\"colab-df-container\">\n",
              "      <div>\n",
              "<style scoped>\n",
              "    .dataframe tbody tr th:only-of-type {\n",
              "        vertical-align: middle;\n",
              "    }\n",
              "\n",
              "    .dataframe tbody tr th {\n",
              "        vertical-align: top;\n",
              "    }\n",
              "\n",
              "    .dataframe thead th {\n",
              "        text-align: right;\n",
              "    }\n",
              "</style>\n",
              "<table border=\"1\" class=\"dataframe\">\n",
              "  <thead>\n",
              "    <tr style=\"text-align: right;\">\n",
              "      <th></th>\n",
              "      <th>reviews</th>\n",
              "      <th>text_token</th>\n",
              "      <th>text_string</th>\n",
              "    </tr>\n",
              "  </thead>\n",
              "  <tbody>\n",
              "    <tr>\n",
              "      <th>0</th>\n",
              "      <td>Old A320 with narrow pitch. Flight perfectly...</td>\n",
              "      <td>[Old, A320, narrow, pitch, Flight, perfectly, ...</td>\n",
              "      <td>Old A320 narrow pitch Flight perfectly time co...</td>\n",
              "    </tr>\n",
              "    <tr>\n",
              "      <th>1</th>\n",
              "      <td>Another BA Shambles. Started off well with e...</td>\n",
              "      <td>[Another, BA, Shambles, Started, well, excelle...</td>\n",
              "      <td>Another Shambles Started well excellent check ...</td>\n",
              "    </tr>\n",
              "    <tr>\n",
              "      <th>2</th>\n",
              "      <td>Not Verified   BA cancelled my flight home to ...</td>\n",
              "      <td>[Not, Verified, BA, cancelled, flight, home, H...</td>\n",
              "      <td>Not Verified cancelled flight home Heathrow De...</td>\n",
              "    </tr>\n",
              "    <tr>\n",
              "      <th>3</th>\n",
              "      <td>Not Verified   BA cancelled my flight home, th...</td>\n",
              "      <td>[Not, Verified, BA, cancelled, flight, home, l...</td>\n",
              "      <td>Not Verified cancelled flight home last flight...</td>\n",
              "    </tr>\n",
              "    <tr>\n",
              "      <th>4</th>\n",
              "      <td>Turned up 3.5 hours in advance, Terminal 5 at...</td>\n",
              "      <td>[Turned, 3, 5, hours, advance, Terminal, 5, Lo...</td>\n",
              "      <td>Turned hours advance Terminal London Heathrow ...</td>\n",
              "    </tr>\n",
              "  </tbody>\n",
              "</table>\n",
              "</div>\n",
              "      <button class=\"colab-df-convert\" onclick=\"convertToInteractive('df-48b75c65-3f76-44b3-9b00-daf55f2cb19b')\"\n",
              "              title=\"Convert this dataframe to an interactive table.\"\n",
              "              style=\"display:none;\">\n",
              "        \n",
              "  <svg xmlns=\"http://www.w3.org/2000/svg\" height=\"24px\"viewBox=\"0 0 24 24\"\n",
              "       width=\"24px\">\n",
              "    <path d=\"M0 0h24v24H0V0z\" fill=\"none\"/>\n",
              "    <path d=\"M18.56 5.44l.94 2.06.94-2.06 2.06-.94-2.06-.94-.94-2.06-.94 2.06-2.06.94zm-11 1L8.5 8.5l.94-2.06 2.06-.94-2.06-.94L8.5 2.5l-.94 2.06-2.06.94zm10 10l.94 2.06.94-2.06 2.06-.94-2.06-.94-.94-2.06-.94 2.06-2.06.94z\"/><path d=\"M17.41 7.96l-1.37-1.37c-.4-.4-.92-.59-1.43-.59-.52 0-1.04.2-1.43.59L10.3 9.45l-7.72 7.72c-.78.78-.78 2.05 0 2.83L4 21.41c.39.39.9.59 1.41.59.51 0 1.02-.2 1.41-.59l7.78-7.78 2.81-2.81c.8-.78.8-2.07 0-2.86zM5.41 20L4 18.59l7.72-7.72 1.47 1.35L5.41 20z\"/>\n",
              "  </svg>\n",
              "      </button>\n",
              "      \n",
              "  <style>\n",
              "    .colab-df-container {\n",
              "      display:flex;\n",
              "      flex-wrap:wrap;\n",
              "      gap: 12px;\n",
              "    }\n",
              "\n",
              "    .colab-df-convert {\n",
              "      background-color: #E8F0FE;\n",
              "      border: none;\n",
              "      border-radius: 50%;\n",
              "      cursor: pointer;\n",
              "      display: none;\n",
              "      fill: #1967D2;\n",
              "      height: 32px;\n",
              "      padding: 0 0 0 0;\n",
              "      width: 32px;\n",
              "    }\n",
              "\n",
              "    .colab-df-convert:hover {\n",
              "      background-color: #E2EBFA;\n",
              "      box-shadow: 0px 1px 2px rgba(60, 64, 67, 0.3), 0px 1px 3px 1px rgba(60, 64, 67, 0.15);\n",
              "      fill: #174EA6;\n",
              "    }\n",
              "\n",
              "    [theme=dark] .colab-df-convert {\n",
              "      background-color: #3B4455;\n",
              "      fill: #D2E3FC;\n",
              "    }\n",
              "\n",
              "    [theme=dark] .colab-df-convert:hover {\n",
              "      background-color: #434B5C;\n",
              "      box-shadow: 0px 1px 3px 1px rgba(0, 0, 0, 0.15);\n",
              "      filter: drop-shadow(0px 1px 2px rgba(0, 0, 0, 0.3));\n",
              "      fill: #FFFFFF;\n",
              "    }\n",
              "  </style>\n",
              "\n",
              "      <script>\n",
              "        const buttonEl =\n",
              "          document.querySelector('#df-48b75c65-3f76-44b3-9b00-daf55f2cb19b button.colab-df-convert');\n",
              "        buttonEl.style.display =\n",
              "          google.colab.kernel.accessAllowed ? 'block' : 'none';\n",
              "\n",
              "        async function convertToInteractive(key) {\n",
              "          const element = document.querySelector('#df-48b75c65-3f76-44b3-9b00-daf55f2cb19b');\n",
              "          const dataTable =\n",
              "            await google.colab.kernel.invokeFunction('convertToInteractive',\n",
              "                                                     [key], {});\n",
              "          if (!dataTable) return;\n",
              "\n",
              "          const docLinkHtml = 'Like what you see? Visit the ' +\n",
              "            '<a target=\"_blank\" href=https://colab.research.google.com/notebooks/data_table.ipynb>data table notebook</a>'\n",
              "            + ' to learn more about interactive tables.';\n",
              "          element.innerHTML = '';\n",
              "          dataTable['output_type'] = 'display_data';\n",
              "          await google.colab.output.renderOutput(dataTable, element);\n",
              "          const docLink = document.createElement('div');\n",
              "          docLink.innerHTML = docLinkHtml;\n",
              "          element.appendChild(docLink);\n",
              "        }\n",
              "      </script>\n",
              "    </div>\n",
              "  </div>\n",
              "  "
            ]
          },
          "metadata": {},
          "execution_count": 17
        }
      ]
    },
    {
      "cell_type": "code",
      "source": [
        "#creating a list of words\n",
        "\n",
        "all_words = ' '.join([word for word in df['text_string']])"
      ],
      "metadata": {
        "id": "RvcyHSHe1Fi_"
      },
      "execution_count": 18,
      "outputs": []
    },
    {
      "cell_type": "code",
      "source": [
        "#Tokenize all words\n",
        "\n",
        "tokenized_words = nltk.tokenize.word_tokenize(all_words)"
      ],
      "metadata": {
        "id": "v2Revrnt1Flx"
      },
      "execution_count": 19,
      "outputs": []
    },
    {
      "cell_type": "code",
      "source": [
        "#Calculating the frequency distribution\n",
        "\n",
        "from nltk.probability import FreqDist\n",
        "\n",
        "fdist = FreqDist(tokenized_words)\n",
        "fdist"
      ],
      "metadata": {
        "colab": {
          "base_uri": "https://localhost:8080/"
        },
        "id": "uDrIwxTL1Fo6",
        "outputId": "4afc5895-5b09-4481-af51-a5f786a0e798"
      },
      "execution_count": 20,
      "outputs": [
        {
          "output_type": "execute_result",
          "data": {
            "text/plain": [
              "FreqDist({'flight': 1715, 'The': 1248, 'London': 689, 'service': 672, 'seat': 530, 'time': 484, 'crew': 464, 'food': 438, 'good': 431, 'seats': 417, ...})"
            ]
          },
          "metadata": {},
          "execution_count": 20
        }
      ]
    },
    {
      "cell_type": "code",
      "source": [
        "#picking the word who freq distribution is more than 1\n",
        "df['text_string_fdist'] = df['text_token'].apply(lambda x: ' '.join([item for item in x if fdist[item] >= 1 ]))"
      ],
      "metadata": {
        "id": "Q2avYGQk1Frm"
      },
      "execution_count": 22,
      "outputs": []
    },
    {
      "cell_type": "code",
      "source": [
        "#Checking the dataframe\n",
        "df[['reviews', 'text_token', 'text_string', 'text_string_fdist']].head()"
      ],
      "metadata": {
        "colab": {
          "base_uri": "https://localhost:8080/",
          "height": 206
        },
        "id": "UdZN6JkG1Fuo",
        "outputId": "5ae5c808-8ff9-4d4e-f12e-3399896c8da7"
      },
      "execution_count": 23,
      "outputs": [
        {
          "output_type": "execute_result",
          "data": {
            "text/plain": [
              "                                             reviews  \\\n",
              "0    Old A320 with narrow pitch. Flight perfectly...   \n",
              "1    Another BA Shambles. Started off well with e...   \n",
              "2  Not Verified   BA cancelled my flight home to ...   \n",
              "3  Not Verified   BA cancelled my flight home, th...   \n",
              "4   Turned up 3.5 hours in advance, Terminal 5 at...   \n",
              "\n",
              "                                          text_token  \\\n",
              "0  [Old, A320, narrow, pitch, Flight, perfectly, ...   \n",
              "1  [Another, BA, Shambles, Started, well, excelle...   \n",
              "2  [Not, Verified, BA, cancelled, flight, home, H...   \n",
              "3  [Not, Verified, BA, cancelled, flight, home, l...   \n",
              "4  [Turned, 3, 5, hours, advance, Terminal, 5, Lo...   \n",
              "\n",
              "                                         text_string  \\\n",
              "0  Old A320 narrow pitch Flight perfectly time co...   \n",
              "1  Another Shambles Started well excellent check ...   \n",
              "2  Not Verified cancelled flight home Heathrow De...   \n",
              "3  Not Verified cancelled flight home last flight...   \n",
              "4  Turned hours advance Terminal London Heathrow ...   \n",
              "\n",
              "                                   text_string_fdist  \n",
              "0  Old A320 narrow pitch Flight perfectly time co...  \n",
              "1  Another Shambles Started well excellent check ...  \n",
              "2  Not Verified cancelled flight home Heathrow De...  \n",
              "3  Not Verified cancelled flight home last flight...  \n",
              "4  Turned hours advance Terminal London Heathrow ...  "
            ],
            "text/html": [
              "\n",
              "  <div id=\"df-4e9ad983-3763-4154-bf99-6fcca78e4238\">\n",
              "    <div class=\"colab-df-container\">\n",
              "      <div>\n",
              "<style scoped>\n",
              "    .dataframe tbody tr th:only-of-type {\n",
              "        vertical-align: middle;\n",
              "    }\n",
              "\n",
              "    .dataframe tbody tr th {\n",
              "        vertical-align: top;\n",
              "    }\n",
              "\n",
              "    .dataframe thead th {\n",
              "        text-align: right;\n",
              "    }\n",
              "</style>\n",
              "<table border=\"1\" class=\"dataframe\">\n",
              "  <thead>\n",
              "    <tr style=\"text-align: right;\">\n",
              "      <th></th>\n",
              "      <th>reviews</th>\n",
              "      <th>text_token</th>\n",
              "      <th>text_string</th>\n",
              "      <th>text_string_fdist</th>\n",
              "    </tr>\n",
              "  </thead>\n",
              "  <tbody>\n",
              "    <tr>\n",
              "      <th>0</th>\n",
              "      <td>Old A320 with narrow pitch. Flight perfectly...</td>\n",
              "      <td>[Old, A320, narrow, pitch, Flight, perfectly, ...</td>\n",
              "      <td>Old A320 narrow pitch Flight perfectly time co...</td>\n",
              "      <td>Old A320 narrow pitch Flight perfectly time co...</td>\n",
              "    </tr>\n",
              "    <tr>\n",
              "      <th>1</th>\n",
              "      <td>Another BA Shambles. Started off well with e...</td>\n",
              "      <td>[Another, BA, Shambles, Started, well, excelle...</td>\n",
              "      <td>Another Shambles Started well excellent check ...</td>\n",
              "      <td>Another Shambles Started well excellent check ...</td>\n",
              "    </tr>\n",
              "    <tr>\n",
              "      <th>2</th>\n",
              "      <td>Not Verified   BA cancelled my flight home to ...</td>\n",
              "      <td>[Not, Verified, BA, cancelled, flight, home, H...</td>\n",
              "      <td>Not Verified cancelled flight home Heathrow De...</td>\n",
              "      <td>Not Verified cancelled flight home Heathrow De...</td>\n",
              "    </tr>\n",
              "    <tr>\n",
              "      <th>3</th>\n",
              "      <td>Not Verified   BA cancelled my flight home, th...</td>\n",
              "      <td>[Not, Verified, BA, cancelled, flight, home, l...</td>\n",
              "      <td>Not Verified cancelled flight home last flight...</td>\n",
              "      <td>Not Verified cancelled flight home last flight...</td>\n",
              "    </tr>\n",
              "    <tr>\n",
              "      <th>4</th>\n",
              "      <td>Turned up 3.5 hours in advance, Terminal 5 at...</td>\n",
              "      <td>[Turned, 3, 5, hours, advance, Terminal, 5, Lo...</td>\n",
              "      <td>Turned hours advance Terminal London Heathrow ...</td>\n",
              "      <td>Turned hours advance Terminal London Heathrow ...</td>\n",
              "    </tr>\n",
              "  </tbody>\n",
              "</table>\n",
              "</div>\n",
              "      <button class=\"colab-df-convert\" onclick=\"convertToInteractive('df-4e9ad983-3763-4154-bf99-6fcca78e4238')\"\n",
              "              title=\"Convert this dataframe to an interactive table.\"\n",
              "              style=\"display:none;\">\n",
              "        \n",
              "  <svg xmlns=\"http://www.w3.org/2000/svg\" height=\"24px\"viewBox=\"0 0 24 24\"\n",
              "       width=\"24px\">\n",
              "    <path d=\"M0 0h24v24H0V0z\" fill=\"none\"/>\n",
              "    <path d=\"M18.56 5.44l.94 2.06.94-2.06 2.06-.94-2.06-.94-.94-2.06-.94 2.06-2.06.94zm-11 1L8.5 8.5l.94-2.06 2.06-.94-2.06-.94L8.5 2.5l-.94 2.06-2.06.94zm10 10l.94 2.06.94-2.06 2.06-.94-2.06-.94-.94-2.06-.94 2.06-2.06.94z\"/><path d=\"M17.41 7.96l-1.37-1.37c-.4-.4-.92-.59-1.43-.59-.52 0-1.04.2-1.43.59L10.3 9.45l-7.72 7.72c-.78.78-.78 2.05 0 2.83L4 21.41c.39.39.9.59 1.41.59.51 0 1.02-.2 1.41-.59l7.78-7.78 2.81-2.81c.8-.78.8-2.07 0-2.86zM5.41 20L4 18.59l7.72-7.72 1.47 1.35L5.41 20z\"/>\n",
              "  </svg>\n",
              "      </button>\n",
              "      \n",
              "  <style>\n",
              "    .colab-df-container {\n",
              "      display:flex;\n",
              "      flex-wrap:wrap;\n",
              "      gap: 12px;\n",
              "    }\n",
              "\n",
              "    .colab-df-convert {\n",
              "      background-color: #E8F0FE;\n",
              "      border: none;\n",
              "      border-radius: 50%;\n",
              "      cursor: pointer;\n",
              "      display: none;\n",
              "      fill: #1967D2;\n",
              "      height: 32px;\n",
              "      padding: 0 0 0 0;\n",
              "      width: 32px;\n",
              "    }\n",
              "\n",
              "    .colab-df-convert:hover {\n",
              "      background-color: #E2EBFA;\n",
              "      box-shadow: 0px 1px 2px rgba(60, 64, 67, 0.3), 0px 1px 3px 1px rgba(60, 64, 67, 0.15);\n",
              "      fill: #174EA6;\n",
              "    }\n",
              "\n",
              "    [theme=dark] .colab-df-convert {\n",
              "      background-color: #3B4455;\n",
              "      fill: #D2E3FC;\n",
              "    }\n",
              "\n",
              "    [theme=dark] .colab-df-convert:hover {\n",
              "      background-color: #434B5C;\n",
              "      box-shadow: 0px 1px 3px 1px rgba(0, 0, 0, 0.15);\n",
              "      filter: drop-shadow(0px 1px 2px rgba(0, 0, 0, 0.3));\n",
              "      fill: #FFFFFF;\n",
              "    }\n",
              "  </style>\n",
              "\n",
              "      <script>\n",
              "        const buttonEl =\n",
              "          document.querySelector('#df-4e9ad983-3763-4154-bf99-6fcca78e4238 button.colab-df-convert');\n",
              "        buttonEl.style.display =\n",
              "          google.colab.kernel.accessAllowed ? 'block' : 'none';\n",
              "\n",
              "        async function convertToInteractive(key) {\n",
              "          const element = document.querySelector('#df-4e9ad983-3763-4154-bf99-6fcca78e4238');\n",
              "          const dataTable =\n",
              "            await google.colab.kernel.invokeFunction('convertToInteractive',\n",
              "                                                     [key], {});\n",
              "          if (!dataTable) return;\n",
              "\n",
              "          const docLinkHtml = 'Like what you see? Visit the ' +\n",
              "            '<a target=\"_blank\" href=https://colab.research.google.com/notebooks/data_table.ipynb>data table notebook</a>'\n",
              "            + ' to learn more about interactive tables.';\n",
              "          element.innerHTML = '';\n",
              "          dataTable['output_type'] = 'display_data';\n",
              "          await google.colab.output.renderOutput(dataTable, element);\n",
              "          const docLink = document.createElement('div');\n",
              "          docLink.innerHTML = docLinkHtml;\n",
              "          element.appendChild(docLink);\n",
              "        }\n",
              "      </script>\n",
              "    </div>\n",
              "  </div>\n",
              "  "
            ]
          },
          "metadata": {},
          "execution_count": 23
        }
      ]
    },
    {
      "cell_type": "code",
      "source": [
        "all_words_lem = ' '.join([word for word in df['text_string_fdist']])"
      ],
      "metadata": {
        "id": "XObPk0Me5dF3"
      },
      "execution_count": 24,
      "outputs": []
    },
    {
      "cell_type": "code",
      "source": [
        "import matplotlib.pyplot as plt\n",
        "from wordcloud import WordCloud\n",
        "\n",
        "wordcloud = WordCloud(width=600, \n",
        "                     height=400, \n",
        "                     random_state=2, \n",
        "                     max_font_size=100).generate(all_words_lem)\n",
        "\n",
        "plt.figure(figsize=(10, 7))\n",
        "plt.imshow(wordcloud, interpolation='bilinear')\n",
        "plt.axis('off');"
      ],
      "metadata": {
        "colab": {
          "base_uri": "https://localhost:8080/",
          "height": 403
        },
        "id": "gtr2oR3W1Fxm",
        "outputId": "952b99f4-9615-4b19-89ac-e12cac08d5c9"
      },
      "execution_count": 25,
      "outputs": [
        {
          "output_type": "display_data",
          "data": {
            "text/plain": [
              "<Figure size 720x504 with 1 Axes>"
            ],
            "image/png": "[encoded data removed]"
          },
          "metadata": {
            "needs_background": "light"
          }
        }
      ]
    },
    {
      "cell_type": "code",
      "source": [
        "#Using other packages\n",
        "\n",
        "from nltk.tokenize import word_tokenize\n",
        "from nltk.probability import FreqDist\n",
        "\n",
        "words = nltk.word_tokenize(all_words_lem)\n",
        "fd = FreqDist(words)"
      ],
      "metadata": {
        "id": "mzB_poiu4edA"
      },
      "execution_count": 27,
      "outputs": []
    },
    {
      "cell_type": "code",
      "source": [
        "#Checking the most common words\n",
        "\n",
        "fd.most_common(3)"
      ],
      "metadata": {
        "colab": {
          "base_uri": "https://localhost:8080/"
        },
        "id": "XYRRRIRN7BkI",
        "outputId": "c9a46ef5-4ea0-439b-96b0-8e36997f4b9c"
      },
      "execution_count": 29,
      "outputs": [
        {
          "output_type": "execute_result",
          "data": {
            "text/plain": [
              "[('flight', 1715), ('The', 1248), ('London', 689)]"
            ]
          },
          "metadata": {},
          "execution_count": 29
        }
      ]
    },
    {
      "cell_type": "code",
      "source": [
        "#plot common words\n",
        "\n",
        "# Obtain top 10 words\n",
        "top_10 = fd.most_common(10)\n",
        "\n",
        "# Create pandas series to make plotting easier\n",
        "fdist = pd.Series(dict(top_10))"
      ],
      "metadata": {
        "id": "UBUxQ0_D7Bm1"
      },
      "execution_count": 30,
      "outputs": []
    },
    {
      "cell_type": "code",
      "source": [
        "import seaborn as sns\n",
        "sns.set_theme(style=\"ticks\")\n",
        "\n",
        "sns.barplot(y=fdist.index, x=fdist.values, color='blue');"
      ],
      "metadata": {
        "colab": {
          "base_uri": "https://localhost:8080/",
          "height": 268
        },
        "id": "TxlnxweL7Bp8",
        "outputId": "9752e452-50e6-46ee-a688-ab6ca4e4e39e"
      },
      "execution_count": 31,
      "outputs": [
        {
          "output_type": "display_data",
          "data": {
            "text/plain": [
              "<Figure size 432x288 with 1 Axes>"
            ],
            "image/png": "[encoded data removed]"
          },
          "metadata": {}
        }
      ]
    },
    {
      "cell_type": "code",
      "source": [
        "#Using plotly graph for more interactivity\n",
        "\n",
        "import plotly.express as px\n",
        "\n",
        "fig = px.bar(y=fdist.index, x=fdist.values)\n",
        "\n",
        "# sort values\n",
        "fig.update_layout(barmode='stack', yaxis={'categoryorder':'total ascending'})\n",
        "\n",
        "# show plot\n",
        "fig.show()"
      ],
      "metadata": {
        "colab": {
          "base_uri": "https://localhost:8080/",
          "height": 542
        },
        "id": "QLRFEZDx7RDI",
        "outputId": "98497315-b580-47bd-822c-f397a9b384e2"
      },
      "execution_count": 32,
      "outputs": [
        {
          "output_type": "display_data",
          "data": {
            "text/html": [
              "<html>\n",
              "<head><meta charset=\"utf-8\" /></head>\n",
              "<body>\n",
              "    <div>            <script src=\"https://cdnjs.cloudflare.com/ajax/libs/mathjax/2.7.5/MathJax.js?config=TeX-AMS-MML_SVG\"></script><script type=\"text/javascript\">if (window.MathJax) {MathJax.Hub.Config({SVG: {font: \"STIX-Web\"}});}</script>                <script type=\"text/javascript\">window.PlotlyConfig = {MathJaxConfig: 'local'};</script>\n",
              "        <script src=\"https://cdn.plot.ly/plotly-2.8.3.min.js\"></script>                <div id=\"5b20a5fb-a8f3-4f88-a2fe-87fcbb18fe4e\" class=\"plotly-graph-div\" style=\"height:525px; width:100%;\"></div>            <script type=\"text/javascript\">                                    window.PLOTLYENV=window.PLOTLYENV || {};                                    if (document.getElementById(\"5b20a5fb-a8f3-4f88-a2fe-87fcbb18fe4e\")) {                    Plotly.newPlot(                        \"5b20a5fb-a8f3-4f88-a2fe-87fcbb18fe4e\",                        [{\"alignmentgroup\":\"True\",\"hovertemplate\":\"x=%{x}<br>y=%{y}<extra></extra>\",\"legendgroup\":\"\",\"marker\":{\"color\":\"#636efa\",\"pattern\":{\"shape\":\"\"}},\"name\":\"\",\"offsetgroup\":\"\",\"orientation\":\"h\",\"showlegend\":false,\"textposition\":\"auto\",\"x\":[1715,1248,689,672,530,484,464,438,431,417],\"xaxis\":\"x\",\"y\":[\"flight\",\"The\",\"London\",\"service\",\"seat\",\"time\",\"crew\",\"food\",\"good\",\"seats\"],\"yaxis\":\"y\",\"type\":\"bar\"}],                        {\"template\":{\"data\":{\"bar\":[{\"error_x\":{\"color\":\"#2a3f5f\"},\"error_y\":{\"color\":\"#2a3f5f\"},\"marker\":{\"line\":{\"color\":\"#E5ECF6\",\"width\":0.5},\"pattern\":{\"fillmode\":\"overlay\",\"size\":10,\"solidity\":0.2}},\"type\":\"bar\"}],\"barpolar\":[{\"marker\":{\"line\":{\"color\":\"#E5ECF6\",\"width\":0.5},\"pattern\":{\"fillmode\":\"overlay\",\"size\":10,\"solidity\":0.2}},\"type\":\"barpolar\"}],\"carpet\":[{\"aaxis\":{\"endlinecolor\":\"#2a3f5f\",\"gridcolor\":\"white\",\"linecolor\":\"white\",\"minorgridcolor\":\"white\",\"startlinecolor\":\"#2a3f5f\"},\"baxis\":{\"endlinecolor\":\"#2a3f5f\",\"gridcolor\":\"white\",\"linecolor\":\"white\",\"minorgridcolor\":\"white\",\"startlinecolor\":\"#2a3f5f\"},\"type\":\"carpet\"}],\"choropleth\":[{\"colorbar\":{\"outlinewidth\":0,\"ticks\":\"\"},\"type\":\"choropleth\"}],\"contour\":[{\"colorbar\":{\"outlinewidth\":0,\"ticks\":\"\"},\"colorscale\":[[0.0,\"#0d0887\"],[0.1111111111111111,\"#46039f\"],[0.2222222222222222,\"#7201a8\"],[0.3333333333333333,\"#9c179e\"],[0.4444444444444444,\"#bd3786\"],[0.5555555555555556,\"#d8576b\"],[0.6666666666666666,\"#ed7953\"],[0.7777777777777778,\"#fb9f3a\"],[0.8888888888888888,\"#fdca26\"],[1.0,\"#f0f921\"]],\"type\":\"contour\"}],\"contourcarpet\":[{\"colorbar\":{\"outlinewidth\":0,\"ticks\":\"\"},\"type\":\"contourcarpet\"}],\"heatmap\":[{\"colorbar\":{\"outlinewidth\":0,\"ticks\":\"\"},\"colorscale\":[[0.0,\"#0d0887\"],[0.1111111111111111,\"#46039f\"],[0.2222222222222222,\"#7201a8\"],[0.3333333333333333,\"#9c179e\"],[0.4444444444444444,\"#bd3786\"],[0.5555555555555556,\"#d8576b\"],[0.6666666666666666,\"#ed7953\"],[0.7777777777777778,\"#fb9f3a\"],[0.8888888888888888,\"#fdca26\"],[1.0,\"#f0f921\"]],\"type\":\"heatmap\"}],\"heatmapgl\":[{\"colorbar\":{\"outlinewidth\":0,\"ticks\":\"\"},\"colorscale\":[[0.0,\"#0d0887\"],[0.1111111111111111,\"#46039f\"],[0.2222222222222222,\"#7201a8\"],[0.3333333333333333,\"#9c179e\"],[0.4444444444444444,\"#bd3786\"],[0.5555555555555556,\"#d8576b\"],[0.6666666666666666,\"#ed7953\"],[0.7777777777777778,\"#fb9f3a\"],[0.8888888888888888,\"#fdca26\"],[1.0,\"#f0f921\"]],\"type\":\"heatmapgl\"}],\"histogram\":[{\"marker\":{\"pattern\":{\"fillmode\":\"overlay\",\"size\":10,\"solidity\":0.2}},\"type\":\"histogram\"}],\"histogram2d\":[{\"colorbar\":{\"outlinewidth\":0,\"ticks\":\"\"},\"colorscale\":[[0.0,\"#0d0887\"],[0.1111111111111111,\"#46039f\"],[0.2222222222222222,\"#7201a8\"],[0.3333333333333333,\"#9c179e\"],[0.4444444444444444,\"#bd3786\"],[0.5555555555555556,\"#d8576b\"],[0.6666666666666666,\"#ed7953\"],[0.7777777777777778,\"#fb9f3a\"],[0.8888888888888888,\"#fdca26\"],[1.0,\"#f0f921\"]],\"type\":\"histogram2d\"}],\"histogram2dcontour\":[{\"colorbar\":{\"outlinewidth\":0,\"ticks\":\"\"},\"colorscale\":[[0.0,\"#0d0887\"],[0.1111111111111111,\"#46039f\"],[0.2222222222222222,\"#7201a8\"],[0.3333333333333333,\"#9c179e\"],[0.4444444444444444,\"#bd3786\"],[0.5555555555555556,\"#d8576b\"],[0.6666666666666666,\"#ed7953\"],[0.7777777777777778,\"#fb9f3a\"],[0.8888888888888888,\"#fdca26\"],[1.0,\"#f0f921\"]],\"type\":\"histogram2dcontour\"}],\"mesh3d\":[{\"colorbar\":{\"outlinewidth\":0,\"ticks\":\"\"},\"type\":\"mesh3d\"}],\"parcoords\":[{\"line\":{\"colorbar\":{\"outlinewidth\":0,\"ticks\":\"\"}},\"type\":\"parcoords\"}],\"pie\":[{\"automargin\":true,\"type\":\"pie\"}],\"scatter\":[{\"marker\":{\"colorbar\":{\"outlinewidth\":0,\"ticks\":\"\"}},\"type\":\"scatter\"}],\"scatter3d\":[{\"line\":{\"colorbar\":{\"outlinewidth\":0,\"ticks\":\"\"}},\"marker\":{\"colorbar\":{\"outlinewidth\":0,\"ticks\":\"\"}},\"type\":\"scatter3d\"}],\"scattercarpet\":[{\"marker\":{\"colorbar\":{\"outlinewidth\":0,\"ticks\":\"\"}},\"type\":\"scattercarpet\"}],\"scattergeo\":[{\"marker\":{\"colorbar\":{\"outlinewidth\":0,\"ticks\":\"\"}},\"type\":\"scattergeo\"}],\"scattergl\":[{\"marker\":{\"colorbar\":{\"outlinewidth\":0,\"ticks\":\"\"}},\"type\":\"scattergl\"}],\"scattermapbox\":[{\"marker\":{\"colorbar\":{\"outlinewidth\":0,\"ticks\":\"\"}},\"type\":\"scattermapbox\"}],\"scatterpolar\":[{\"marker\":{\"colorbar\":{\"outlinewidth\":0,\"ticks\":\"\"}},\"type\":\"scatterpolar\"}],\"scatterpolargl\":[{\"marker\":{\"colorbar\":{\"outlinewidth\":0,\"ticks\":\"\"}},\"type\":\"scatterpolargl\"}],\"scatterternary\":[{\"marker\":{\"colorbar\":{\"outlinewidth\":0,\"ticks\":\"\"}},\"type\":\"scatterternary\"}],\"surface\":[{\"colorbar\":{\"outlinewidth\":0,\"ticks\":\"\"},\"colorscale\":[[0.0,\"#0d0887\"],[0.1111111111111111,\"#46039f\"],[0.2222222222222222,\"#7201a8\"],[0.3333333333333333,\"#9c179e\"],[0.4444444444444444,\"#bd3786\"],[0.5555555555555556,\"#d8576b\"],[0.6666666666666666,\"#ed7953\"],[0.7777777777777778,\"#fb9f3a\"],[0.8888888888888888,\"#fdca26\"],[1.0,\"#f0f921\"]],\"type\":\"surface\"}],\"table\":[{\"cells\":{\"fill\":{\"color\":\"#EBF0F8\"},\"line\":{\"color\":\"white\"}},\"header\":{\"fill\":{\"color\":\"#C8D4E3\"},\"line\":{\"color\":\"white\"}},\"type\":\"table\"}]},\"layout\":{\"annotationdefaults\":{\"arrowcolor\":\"#2a3f5f\",\"arrowhead\":0,\"arrowwidth\":1},\"autotypenumbers\":\"strict\",\"coloraxis\":{\"colorbar\":{\"outlinewidth\":0,\"ticks\":\"\"}},\"colorscale\":{\"diverging\":[[0,\"#8e0152\"],[0.1,\"#c51b7d\"],[0.2,\"#de77ae\"],[0.3,\"#f1b6da\"],[0.4,\"#fde0ef\"],[0.5,\"#f7f7f7\"],[0.6,\"#e6f5d0\"],[0.7,\"#b8e186\"],[0.8,\"#7fbc41\"],[0.9,\"#4d9221\"],[1,\"#276419\"]],\"sequential\":[[0.0,\"#0d0887\"],[0.1111111111111111,\"#46039f\"],[0.2222222222222222,\"#7201a8\"],[0.3333333333333333,\"#9c179e\"],[0.4444444444444444,\"#bd3786\"],[0.5555555555555556,\"#d8576b\"],[0.6666666666666666,\"#ed7953\"],[0.7777777777777778,\"#fb9f3a\"],[0.8888888888888888,\"#fdca26\"],[1.0,\"#f0f921\"]],\"sequentialminus\":[[0.0,\"#0d0887\"],[0.1111111111111111,\"#46039f\"],[0.2222222222222222,\"#7201a8\"],[0.3333333333333333,\"#9c179e\"],[0.4444444444444444,\"#bd3786\"],[0.5555555555555556,\"#d8576b\"],[0.6666666666666666,\"#ed7953\"],[0.7777777777777778,\"#fb9f3a\"],[0.8888888888888888,\"#fdca26\"],[1.0,\"#f0f921\"]]},\"colorway\":[\"#636efa\",\"#EF553B\",\"#00cc96\",\"#ab63fa\",\"#FFA15A\",\"#19d3f3\",\"#FF6692\",\"#B6E880\",\"#FF97FF\",\"#FECB52\"],\"font\":{\"color\":\"#2a3f5f\"},\"geo\":{\"bgcolor\":\"white\",\"lakecolor\":\"white\",\"landcolor\":\"#E5ECF6\",\"showlakes\":true,\"showland\":true,\"subunitcolor\":\"white\"},\"hoverlabel\":{\"align\":\"left\"},\"hovermode\":\"closest\",\"mapbox\":{\"style\":\"light\"},\"paper_bgcolor\":\"white\",\"plot_bgcolor\":\"#E5ECF6\",\"polar\":{\"angularaxis\":{\"gridcolor\":\"white\",\"linecolor\":\"white\",\"ticks\":\"\"},\"bgcolor\":\"#E5ECF6\",\"radialaxis\":{\"gridcolor\":\"white\",\"linecolor\":\"white\",\"ticks\":\"\"}},\"scene\":{\"xaxis\":{\"backgroundcolor\":\"#E5ECF6\",\"gridcolor\":\"white\",\"gridwidth\":2,\"linecolor\":\"white\",\"showbackground\":true,\"ticks\":\"\",\"zerolinecolor\":\"white\"},\"yaxis\":{\"backgroundcolor\":\"#E5ECF6\",\"gridcolor\":\"white\",\"gridwidth\":2,\"linecolor\":\"white\",\"showbackground\":true,\"ticks\":\"\",\"zerolinecolor\":\"white\"},\"zaxis\":{\"backgroundcolor\":\"#E5ECF6\",\"gridcolor\":\"white\",\"gridwidth\":2,\"linecolor\":\"white\",\"showbackground\":true,\"ticks\":\"\",\"zerolinecolor\":\"white\"}},\"shapedefaults\":{\"line\":{\"color\":\"#2a3f5f\"}},\"ternary\":{\"aaxis\":{\"gridcolor\":\"white\",\"linecolor\":\"white\",\"ticks\":\"\"},\"baxis\":{\"gridcolor\":\"white\",\"linecolor\":\"white\",\"ticks\":\"\"},\"bgcolor\":\"#E5ECF6\",\"caxis\":{\"gridcolor\":\"white\",\"linecolor\":\"white\",\"ticks\":\"\"}},\"title\":{\"x\":0.05},\"xaxis\":{\"automargin\":true,\"gridcolor\":\"white\",\"linecolor\":\"white\",\"ticks\":\"\",\"title\":{\"standoff\":15},\"zerolinecolor\":\"white\",\"zerolinewidth\":2},\"yaxis\":{\"automargin\":true,\"gridcolor\":\"white\",\"linecolor\":\"white\",\"ticks\":\"\",\"title\":{\"standoff\":15},\"zerolinecolor\":\"white\",\"zerolinewidth\":2}}},\"xaxis\":{\"anchor\":\"y\",\"domain\":[0.0,1.0],\"title\":{\"text\":\"x\"}},\"yaxis\":{\"anchor\":\"x\",\"domain\":[0.0,1.0],\"title\":{\"text\":\"y\"},\"categoryorder\":\"total ascending\"},\"legend\":{\"tracegroupgap\":0},\"margin\":{\"t\":60},\"barmode\":\"stack\"},                        {\"responsive\": true}                    ).then(function(){\n",
              "                            \n",
              "var gd = document.getElementById('5b20a5fb-a8f3-4f88-a2fe-87fcbb18fe4e');\n",
              "var x = new MutationObserver(function (mutations, observer) {{\n",
              "        var display = window.getComputedStyle(gd).display;\n",
              "        if (!display || display === 'none') {{\n",
              "            console.log([gd, 'removed!']);\n",
              "            Plotly.purge(gd);\n",
              "            observer.disconnect();\n",
              "        }}\n",
              "}});\n",
              "\n",
              "// Listen for the removal of the full notebook cells\n",
              "var notebookContainer = gd.closest('#notebook-container');\n",
              "if (notebookContainer) {{\n",
              "    x.observe(notebookContainer, {childList: true});\n",
              "}}\n",
              "\n",
              "// Listen for the clearing of the current output cell\n",
              "var outputEl = gd.closest('.output');\n",
              "if (outputEl) {{\n",
              "    x.observe(outputEl, {childList: true});\n",
              "}}\n",
              "\n",
              "                        })                };                            </script>        </div>\n",
              "</body>\n",
              "</html>"
            ]
          },
          "metadata": {}
        }
      ]
    },
    {
      "cell_type": "code",
      "source": [
        "#Sentiment intensity analyzer\n",
        "\n",
        "from nltk.sentiment import SentimentIntensityAnalyzer\n",
        "\n",
        "analyzer = SentimentIntensityAnalyzer()"
      ],
      "metadata": {
        "id": "QjzZgE6c7Bsh"
      },
      "execution_count": 33,
      "outputs": []
    },
    {
      "cell_type": "code",
      "source": [
        "#Add polarity  scores\n",
        "\n",
        "df['polarity'] = df['text_string_fdist'].apply(lambda x: analyzer.polarity_scores(x))\n",
        "df.head(10)"
      ],
      "metadata": {
        "colab": {
          "base_uri": "https://localhost:8080/",
          "height": 580
        },
        "id": "kvIH58sJ7BvZ",
        "outputId": "a134c730-9b6d-4288-f01c-c280281503fb"
      },
      "execution_count": 35,
      "outputs": [
        {
          "output_type": "execute_result",
          "data": {
            "text/plain": [
              "                                             reviews  \\\n",
              "0    Old A320 with narrow pitch. Flight perfectly...   \n",
              "1    Another BA Shambles. Started off well with e...   \n",
              "2  Not Verified   BA cancelled my flight home to ...   \n",
              "3  Not Verified   BA cancelled my flight home, th...   \n",
              "4   Turned up 3.5 hours in advance, Terminal 5 at...   \n",
              "5  Not Verified   Boarding – at gate at LGW they ...   \n",
              "6    Missing baggage customer service was the wor...   \n",
              "7    British Airways are not the flag carrier the...   \n",
              "8    Stupidly tried BA again after a five year ga...   \n",
              "9  Not Verified   Seat horribly narrow; 3-4-3 on ...   \n",
              "\n",
              "                                          text_token  \\\n",
              "0  [Old, A320, narrow, pitch, Flight, perfectly, ...   \n",
              "1  [Another, BA, Shambles, Started, well, excelle...   \n",
              "2  [Not, Verified, BA, cancelled, flight, home, H...   \n",
              "3  [Not, Verified, BA, cancelled, flight, home, l...   \n",
              "4  [Turned, 3, 5, hours, advance, Terminal, 5, Lo...   \n",
              "5  [Not, Verified, Boarding, gate, LGW, called, G...   \n",
              "6  [Missing, baggage, customer, service, worst, I...   \n",
              "7  [British, Airways, flag, carrier, used, The, c...   \n",
              "8  [Stupidly, tried, BA, five, year, gap, paid, 7...   \n",
              "9  [Not, Verified, Seat, horribly, narrow, 3, 4, ...   \n",
              "\n",
              "                                         text_string  \\\n",
              "0  Old A320 narrow pitch Flight perfectly time co...   \n",
              "1  Another Shambles Started well excellent check ...   \n",
              "2  Not Verified cancelled flight home Heathrow De...   \n",
              "3  Not Verified cancelled flight home last flight...   \n",
              "4  Turned hours advance Terminal London Heathrow ...   \n",
              "5  Not Verified Boarding gate LGW called Group bo...   \n",
              "6  Missing baggage customer service worst ever ex...   \n",
              "7  British Airways flag carrier used The check st...   \n",
              "8  Stupidly tried five year gap paid 7000 wife Ba...   \n",
              "9  Not Verified Seat horribly narrow 777 Thankful...   \n",
              "\n",
              "                                   text_string_fdist  \\\n",
              "0  Old A320 narrow pitch Flight perfectly time co...   \n",
              "1  Another Shambles Started well excellent check ...   \n",
              "2  Not Verified cancelled flight home Heathrow De...   \n",
              "3  Not Verified cancelled flight home last flight...   \n",
              "4  Turned hours advance Terminal London Heathrow ...   \n",
              "5  Not Verified Boarding gate LGW called Group bo...   \n",
              "6  Missing baggage customer service worst ever ex...   \n",
              "7  British Airways flag carrier used The check st...   \n",
              "8  Stupidly tried five year gap paid 7000 wife Ba...   \n",
              "9  Not Verified Seat horribly narrow 777 Thankful...   \n",
              "\n",
              "                                            polarity  \n",
              "0  {'neg': 0.0, 'neu': 0.584, 'pos': 0.416, 'comp...  \n",
              "1  {'neg': 0.096, 'neu': 0.675, 'pos': 0.229, 'co...  \n",
              "2  {'neg': 0.177, 'neu': 0.699, 'pos': 0.123, 'co...  \n",
              "3  {'neg': 0.096, 'neu': 0.785, 'pos': 0.119, 'co...  \n",
              "4  {'neg': 0.183, 'neu': 0.728, 'pos': 0.09, 'com...  \n",
              "5  {'neg': 0.011, 'neu': 0.871, 'pos': 0.119, 'co...  \n",
              "6  {'neg': 0.099, 'neu': 0.874, 'pos': 0.026, 'co...  \n",
              "7  {'neg': 0.04, 'neu': 0.703, 'pos': 0.257, 'com...  \n",
              "8  {'neg': 0.222, 'neu': 0.698, 'pos': 0.079, 'co...  \n",
              "9  {'neg': 0.0, 'neu': 0.597, 'pos': 0.403, 'comp...  "
            ],
            "text/html": [
              "\n",
              "  <div id=\"df-f2247667-c3c6-4994-91b0-a9112058ff33\">\n",
              "    <div class=\"colab-df-container\">\n",
              "      <div>\n",
              "<style scoped>\n",
              "    .dataframe tbody tr th:only-of-type {\n",
              "        vertical-align: middle;\n",
              "    }\n",
              "\n",
              "    .dataframe tbody tr th {\n",
              "        vertical-align: top;\n",
              "    }\n",
              "\n",
              "    .dataframe thead th {\n",
              "        text-align: right;\n",
              "    }\n",
              "</style>\n",
              "<table border=\"1\" class=\"dataframe\">\n",
              "  <thead>\n",
              "    <tr style=\"text-align: right;\">\n",
              "      <th></th>\n",
              "      <th>reviews</th>\n",
              "      <th>text_token</th>\n",
              "      <th>text_string</th>\n",
              "      <th>text_string_fdist</th>\n",
              "      <th>polarity</th>\n",
              "    </tr>\n",
              "  </thead>\n",
              "  <tbody>\n",
              "    <tr>\n",
              "      <th>0</th>\n",
              "      <td>Old A320 with narrow pitch. Flight perfectly...</td>\n",
              "      <td>[Old, A320, narrow, pitch, Flight, perfectly, ...</td>\n",
              "      <td>Old A320 narrow pitch Flight perfectly time co...</td>\n",
              "      <td>Old A320 narrow pitch Flight perfectly time co...</td>\n",
              "      <td>{'neg': 0.0, 'neu': 0.584, 'pos': 0.416, 'comp...</td>\n",
              "    </tr>\n",
              "    <tr>\n",
              "      <th>1</th>\n",
              "      <td>Another BA Shambles. Started off well with e...</td>\n",
              "      <td>[Another, BA, Shambles, Started, well, excelle...</td>\n",
              "      <td>Another Shambles Started well excellent check ...</td>\n",
              "      <td>Another Shambles Started well excellent check ...</td>\n",
              "      <td>{'neg': 0.096, 'neu': 0.675, 'pos': 0.229, 'co...</td>\n",
              "    </tr>\n",
              "    <tr>\n",
              "      <th>2</th>\n",
              "      <td>Not Verified   BA cancelled my flight home to ...</td>\n",
              "      <td>[Not, Verified, BA, cancelled, flight, home, H...</td>\n",
              "      <td>Not Verified cancelled flight home Heathrow De...</td>\n",
              "      <td>Not Verified cancelled flight home Heathrow De...</td>\n",
              "      <td>{'neg': 0.177, 'neu': 0.699, 'pos': 0.123, 'co...</td>\n",
              "    </tr>\n",
              "    <tr>\n",
              "      <th>3</th>\n",
              "      <td>Not Verified   BA cancelled my flight home, th...</td>\n",
              "      <td>[Not, Verified, BA, cancelled, flight, home, l...</td>\n",
              "      <td>Not Verified cancelled flight home last flight...</td>\n",
              "      <td>Not Verified cancelled flight home last flight...</td>\n",
              "      <td>{'neg': 0.096, 'neu': 0.785, 'pos': 0.119, 'co...</td>\n",
              "    </tr>\n",
              "    <tr>\n",
              "      <th>4</th>\n",
              "      <td>Turned up 3.5 hours in advance, Terminal 5 at...</td>\n",
              "      <td>[Turned, 3, 5, hours, advance, Terminal, 5, Lo...</td>\n",
              "      <td>Turned hours advance Terminal London Heathrow ...</td>\n",
              "      <td>Turned hours advance Terminal London Heathrow ...</td>\n",
              "      <td>{'neg': 0.183, 'neu': 0.728, 'pos': 0.09, 'com...</td>\n",
              "    </tr>\n",
              "    <tr>\n",
              "      <th>5</th>\n",
              "      <td>Not Verified   Boarding – at gate at LGW they ...</td>\n",
              "      <td>[Not, Verified, Boarding, gate, LGW, called, G...</td>\n",
              "      <td>Not Verified Boarding gate LGW called Group bo...</td>\n",
              "      <td>Not Verified Boarding gate LGW called Group bo...</td>\n",
              "      <td>{'neg': 0.011, 'neu': 0.871, 'pos': 0.119, 'co...</td>\n",
              "    </tr>\n",
              "    <tr>\n",
              "      <th>6</th>\n",
              "      <td>Missing baggage customer service was the wor...</td>\n",
              "      <td>[Missing, baggage, customer, service, worst, I...</td>\n",
              "      <td>Missing baggage customer service worst ever ex...</td>\n",
              "      <td>Missing baggage customer service worst ever ex...</td>\n",
              "      <td>{'neg': 0.099, 'neu': 0.874, 'pos': 0.026, 'co...</td>\n",
              "    </tr>\n",
              "    <tr>\n",
              "      <th>7</th>\n",
              "      <td>British Airways are not the flag carrier the...</td>\n",
              "      <td>[British, Airways, flag, carrier, used, The, c...</td>\n",
              "      <td>British Airways flag carrier used The check st...</td>\n",
              "      <td>British Airways flag carrier used The check st...</td>\n",
              "      <td>{'neg': 0.04, 'neu': 0.703, 'pos': 0.257, 'com...</td>\n",
              "    </tr>\n",
              "    <tr>\n",
              "      <th>8</th>\n",
              "      <td>Stupidly tried BA again after a five year ga...</td>\n",
              "      <td>[Stupidly, tried, BA, five, year, gap, paid, 7...</td>\n",
              "      <td>Stupidly tried five year gap paid 7000 wife Ba...</td>\n",
              "      <td>Stupidly tried five year gap paid 7000 wife Ba...</td>\n",
              "      <td>{'neg': 0.222, 'neu': 0.698, 'pos': 0.079, 'co...</td>\n",
              "    </tr>\n",
              "    <tr>\n",
              "      <th>9</th>\n",
              "      <td>Not Verified   Seat horribly narrow; 3-4-3 on ...</td>\n",
              "      <td>[Not, Verified, Seat, horribly, narrow, 3, 4, ...</td>\n",
              "      <td>Not Verified Seat horribly narrow 777 Thankful...</td>\n",
              "      <td>Not Verified Seat horribly narrow 777 Thankful...</td>\n",
              "      <td>{'neg': 0.0, 'neu': 0.597, 'pos': 0.403, 'comp...</td>\n",
              "    </tr>\n",
              "  </tbody>\n",
              "</table>\n",
              "</div>\n",
              "      <button class=\"colab-df-convert\" onclick=\"convertToInteractive('df-f2247667-c3c6-4994-91b0-a9112058ff33')\"\n",
              "              title=\"Convert this dataframe to an interactive table.\"\n",
              "              style=\"display:none;\">\n",
              "        \n",
              "  <svg xmlns=\"http://www.w3.org/2000/svg\" height=\"24px\"viewBox=\"0 0 24 24\"\n",
              "       width=\"24px\">\n",
              "    <path d=\"M0 0h24v24H0V0z\" fill=\"none\"/>\n",
              "    <path d=\"M18.56 5.44l.94 2.06.94-2.06 2.06-.94-2.06-.94-.94-2.06-.94 2.06-2.06.94zm-11 1L8.5 8.5l.94-2.06 2.06-.94-2.06-.94L8.5 2.5l-.94 2.06-2.06.94zm10 10l.94 2.06.94-2.06 2.06-.94-2.06-.94-.94-2.06-.94 2.06-2.06.94z\"/><path d=\"M17.41 7.96l-1.37-1.37c-.4-.4-.92-.59-1.43-.59-.52 0-1.04.2-1.43.59L10.3 9.45l-7.72 7.72c-.78.78-.78 2.05 0 2.83L4 21.41c.39.39.9.59 1.41.59.51 0 1.02-.2 1.41-.59l7.78-7.78 2.81-2.81c.8-.78.8-2.07 0-2.86zM5.41 20L4 18.59l7.72-7.72 1.47 1.35L5.41 20z\"/>\n",
              "  </svg>\n",
              "      </button>\n",
              "      \n",
              "  <style>\n",
              "    .colab-df-container {\n",
              "      display:flex;\n",
              "      flex-wrap:wrap;\n",
              "      gap: 12px;\n",
              "    }\n",
              "\n",
              "    .colab-df-convert {\n",
              "      background-color: #E8F0FE;\n",
              "      border: none;\n",
              "      border-radius: 50%;\n",
              "      cursor: pointer;\n",
              "      display: none;\n",
              "      fill: #1967D2;\n",
              "      height: 32px;\n",
              "      padding: 0 0 0 0;\n",
              "      width: 32px;\n",
              "    }\n",
              "\n",
              "    .colab-df-convert:hover {\n",
              "      background-color: #E2EBFA;\n",
              "      box-shadow: 0px 1px 2px rgba(60, 64, 67, 0.3), 0px 1px 3px 1px rgba(60, 64, 67, 0.15);\n",
              "      fill: #174EA6;\n",
              "    }\n",
              "\n",
              "    [theme=dark] .colab-df-convert {\n",
              "      background-color: #3B4455;\n",
              "      fill: #D2E3FC;\n",
              "    }\n",
              "\n",
              "    [theme=dark] .colab-df-convert:hover {\n",
              "      background-color: #434B5C;\n",
              "      box-shadow: 0px 1px 3px 1px rgba(0, 0, 0, 0.15);\n",
              "      filter: drop-shadow(0px 1px 2px rgba(0, 0, 0, 0.3));\n",
              "      fill: #FFFFFF;\n",
              "    }\n",
              "  </style>\n",
              "\n",
              "      <script>\n",
              "        const buttonEl =\n",
              "          document.querySelector('#df-f2247667-c3c6-4994-91b0-a9112058ff33 button.colab-df-convert');\n",
              "        buttonEl.style.display =\n",
              "          google.colab.kernel.accessAllowed ? 'block' : 'none';\n",
              "\n",
              "        async function convertToInteractive(key) {\n",
              "          const element = document.querySelector('#df-f2247667-c3c6-4994-91b0-a9112058ff33');\n",
              "          const dataTable =\n",
              "            await google.colab.kernel.invokeFunction('convertToInteractive',\n",
              "                                                     [key], {});\n",
              "          if (!dataTable) return;\n",
              "\n",
              "          const docLinkHtml = 'Like what you see? Visit the ' +\n",
              "            '<a target=\"_blank\" href=https://colab.research.google.com/notebooks/data_table.ipynb>data table notebook</a>'\n",
              "            + ' to learn more about interactive tables.';\n",
              "          element.innerHTML = '';\n",
              "          dataTable['output_type'] = 'display_data';\n",
              "          await google.colab.output.renderOutput(dataTable, element);\n",
              "          const docLink = document.createElement('div');\n",
              "          docLink.innerHTML = docLinkHtml;\n",
              "          element.appendChild(docLink);\n",
              "        }\n",
              "      </script>\n",
              "    </div>\n",
              "  </div>\n",
              "  "
            ]
          },
          "metadata": {},
          "execution_count": 35
        }
      ]
    },
    {
      "cell_type": "code",
      "source": [
        "# Concatinating the two dataframes\n",
        "\n",
        "df = pd.concat(\n",
        "    [df, \n",
        "     df['polarity'].apply(pd.Series)], axis=1)\n",
        "df.head(3)"
      ],
      "metadata": {
        "colab": {
          "base_uri": "https://localhost:8080/",
          "height": 239
        },
        "id": "N_BTLM5c7Bxm",
        "outputId": "6304b2d7-e650-4d39-d822-48955fc57507"
      },
      "execution_count": 36,
      "outputs": [
        {
          "output_type": "execute_result",
          "data": {
            "text/plain": [
              "                                             reviews  \\\n",
              "0    Old A320 with narrow pitch. Flight perfectly...   \n",
              "1    Another BA Shambles. Started off well with e...   \n",
              "2  Not Verified   BA cancelled my flight home to ...   \n",
              "\n",
              "                                          text_token  \\\n",
              "0  [Old, A320, narrow, pitch, Flight, perfectly, ...   \n",
              "1  [Another, BA, Shambles, Started, well, excelle...   \n",
              "2  [Not, Verified, BA, cancelled, flight, home, H...   \n",
              "\n",
              "                                         text_string  \\\n",
              "0  Old A320 narrow pitch Flight perfectly time co...   \n",
              "1  Another Shambles Started well excellent check ...   \n",
              "2  Not Verified cancelled flight home Heathrow De...   \n",
              "\n",
              "                                   text_string_fdist  \\\n",
              "0  Old A320 narrow pitch Flight perfectly time co...   \n",
              "1  Another Shambles Started well excellent check ...   \n",
              "2  Not Verified cancelled flight home Heathrow De...   \n",
              "\n",
              "                                            polarity    neg    neu    pos  \\\n",
              "0  {'neg': 0.0, 'neu': 0.584, 'pos': 0.416, 'comp...  0.000  0.584  0.416   \n",
              "1  {'neg': 0.096, 'neu': 0.675, 'pos': 0.229, 'co...  0.096  0.675  0.229   \n",
              "2  {'neg': 0.177, 'neu': 0.699, 'pos': 0.123, 'co...  0.177  0.699  0.123   \n",
              "\n",
              "   compound  \n",
              "0    0.8934  \n",
              "1    0.9670  \n",
              "2   -0.7565  "
            ],
            "text/html": [
              "\n",
              "  <div id=\"df-da912e64-208e-4d0d-816d-36dfb6f5f8c5\">\n",
              "    <div class=\"colab-df-container\">\n",
              "      <div>\n",
              "<style scoped>\n",
              "    .dataframe tbody tr th:only-of-type {\n",
              "        vertical-align: middle;\n",
              "    }\n",
              "\n",
              "    .dataframe tbody tr th {\n",
              "        vertical-align: top;\n",
              "    }\n",
              "\n",
              "    .dataframe thead th {\n",
              "        text-align: right;\n",
              "    }\n",
              "</style>\n",
              "<table border=\"1\" class=\"dataframe\">\n",
              "  <thead>\n",
              "    <tr style=\"text-align: right;\">\n",
              "      <th></th>\n",
              "      <th>reviews</th>\n",
              "      <th>text_token</th>\n",
              "      <th>text_string</th>\n",
              "      <th>text_string_fdist</th>\n",
              "      <th>polarity</th>\n",
              "      <th>neg</th>\n",
              "      <th>neu</th>\n",
              "      <th>pos</th>\n",
              "      <th>compound</th>\n",
              "    </tr>\n",
              "  </thead>\n",
              "  <tbody>\n",
              "    <tr>\n",
              "      <th>0</th>\n",
              "      <td>Old A320 with narrow pitch. Flight perfectly...</td>\n",
              "      <td>[Old, A320, narrow, pitch, Flight, perfectly, ...</td>\n",
              "      <td>Old A320 narrow pitch Flight perfectly time co...</td>\n",
              "      <td>Old A320 narrow pitch Flight perfectly time co...</td>\n",
              "      <td>{'neg': 0.0, 'neu': 0.584, 'pos': 0.416, 'comp...</td>\n",
              "      <td>0.000</td>\n",
              "      <td>0.584</td>\n",
              "      <td>0.416</td>\n",
              "      <td>0.8934</td>\n",
              "    </tr>\n",
              "    <tr>\n",
              "      <th>1</th>\n",
              "      <td>Another BA Shambles. Started off well with e...</td>\n",
              "      <td>[Another, BA, Shambles, Started, well, excelle...</td>\n",
              "      <td>Another Shambles Started well excellent check ...</td>\n",
              "      <td>Another Shambles Started well excellent check ...</td>\n",
              "      <td>{'neg': 0.096, 'neu': 0.675, 'pos': 0.229, 'co...</td>\n",
              "      <td>0.096</td>\n",
              "      <td>0.675</td>\n",
              "      <td>0.229</td>\n",
              "      <td>0.9670</td>\n",
              "    </tr>\n",
              "    <tr>\n",
              "      <th>2</th>\n",
              "      <td>Not Verified   BA cancelled my flight home to ...</td>\n",
              "      <td>[Not, Verified, BA, cancelled, flight, home, H...</td>\n",
              "      <td>Not Verified cancelled flight home Heathrow De...</td>\n",
              "      <td>Not Verified cancelled flight home Heathrow De...</td>\n",
              "      <td>{'neg': 0.177, 'neu': 0.699, 'pos': 0.123, 'co...</td>\n",
              "      <td>0.177</td>\n",
              "      <td>0.699</td>\n",
              "      <td>0.123</td>\n",
              "      <td>-0.7565</td>\n",
              "    </tr>\n",
              "  </tbody>\n",
              "</table>\n",
              "</div>\n",
              "      <button class=\"colab-df-convert\" onclick=\"convertToInteractive('df-da912e64-208e-4d0d-816d-36dfb6f5f8c5')\"\n",
              "              title=\"Convert this dataframe to an interactive table.\"\n",
              "              style=\"display:none;\">\n",
              "        \n",
              "  <svg xmlns=\"http://www.w3.org/2000/svg\" height=\"24px\"viewBox=\"0 0 24 24\"\n",
              "       width=\"24px\">\n",
              "    <path d=\"M0 0h24v24H0V0z\" fill=\"none\"/>\n",
              "    <path d=\"M18.56 5.44l.94 2.06.94-2.06 2.06-.94-2.06-.94-.94-2.06-.94 2.06-2.06.94zm-11 1L8.5 8.5l.94-2.06 2.06-.94-2.06-.94L8.5 2.5l-.94 2.06-2.06.94zm10 10l.94 2.06.94-2.06 2.06-.94-2.06-.94-.94-2.06-.94 2.06-2.06.94z\"/><path d=\"M17.41 7.96l-1.37-1.37c-.4-.4-.92-.59-1.43-.59-.52 0-1.04.2-1.43.59L10.3 9.45l-7.72 7.72c-.78.78-.78 2.05 0 2.83L4 21.41c.39.39.9.59 1.41.59.51 0 1.02-.2 1.41-.59l7.78-7.78 2.81-2.81c.8-.78.8-2.07 0-2.86zM5.41 20L4 18.59l7.72-7.72 1.47 1.35L5.41 20z\"/>\n",
              "  </svg>\n",
              "      </button>\n",
              "      \n",
              "  <style>\n",
              "    .colab-df-container {\n",
              "      display:flex;\n",
              "      flex-wrap:wrap;\n",
              "      gap: 12px;\n",
              "    }\n",
              "\n",
              "    .colab-df-convert {\n",
              "      background-color: #E8F0FE;\n",
              "      border: none;\n",
              "      border-radius: 50%;\n",
              "      cursor: pointer;\n",
              "      display: none;\n",
              "      fill: #1967D2;\n",
              "      height: 32px;\n",
              "      padding: 0 0 0 0;\n",
              "      width: 32px;\n",
              "    }\n",
              "\n",
              "    .colab-df-convert:hover {\n",
              "      background-color: #E2EBFA;\n",
              "      box-shadow: 0px 1px 2px rgba(60, 64, 67, 0.3), 0px 1px 3px 1px rgba(60, 64, 67, 0.15);\n",
              "      fill: #174EA6;\n",
              "    }\n",
              "\n",
              "    [theme=dark] .colab-df-convert {\n",
              "      background-color: #3B4455;\n",
              "      fill: #D2E3FC;\n",
              "    }\n",
              "\n",
              "    [theme=dark] .colab-df-convert:hover {\n",
              "      background-color: #434B5C;\n",
              "      box-shadow: 0px 1px 3px 1px rgba(0, 0, 0, 0.15);\n",
              "      filter: drop-shadow(0px 1px 2px rgba(0, 0, 0, 0.3));\n",
              "      fill: #FFFFFF;\n",
              "    }\n",
              "  </style>\n",
              "\n",
              "      <script>\n",
              "        const buttonEl =\n",
              "          document.querySelector('#df-da912e64-208e-4d0d-816d-36dfb6f5f8c5 button.colab-df-convert');\n",
              "        buttonEl.style.display =\n",
              "          google.colab.kernel.accessAllowed ? 'block' : 'none';\n",
              "\n",
              "        async function convertToInteractive(key) {\n",
              "          const element = document.querySelector('#df-da912e64-208e-4d0d-816d-36dfb6f5f8c5');\n",
              "          const dataTable =\n",
              "            await google.colab.kernel.invokeFunction('convertToInteractive',\n",
              "                                                     [key], {});\n",
              "          if (!dataTable) return;\n",
              "\n",
              "          const docLinkHtml = 'Like what you see? Visit the ' +\n",
              "            '<a target=\"_blank\" href=https://colab.research.google.com/notebooks/data_table.ipynb>data table notebook</a>'\n",
              "            + ' to learn more about interactive tables.';\n",
              "          element.innerHTML = '';\n",
              "          dataTable['output_type'] = 'display_data';\n",
              "          await google.colab.output.renderOutput(dataTable, element);\n",
              "          const docLink = document.createElement('div');\n",
              "          docLink.innerHTML = docLinkHtml;\n",
              "          element.appendChild(docLink);\n",
              "        }\n",
              "      </script>\n",
              "    </div>\n",
              "  </div>\n",
              "  "
            ]
          },
          "metadata": {},
          "execution_count": 36
        }
      ]
    },
    {
      "cell_type": "code",
      "source": [
        "# Create new variable with sentiment \"neutral,\" \"positive\" and \"negative\"\n",
        "df['sentiment'] = df['compound'].apply(lambda x: 'positive' if x >0 else 'neutral' if x==0 else 'negative')\n",
        "df.head(4)"
      ],
      "metadata": {
        "colab": {
          "base_uri": "https://localhost:8080/",
          "height": 288
        },
        "id": "4Lutj-a34efu",
        "outputId": "3184154d-9a38-4113-c63a-b4dac478008b"
      },
      "execution_count": 37,
      "outputs": [
        {
          "output_type": "execute_result",
          "data": {
            "text/plain": [
              "                                             reviews  \\\n",
              "0    Old A320 with narrow pitch. Flight perfectly...   \n",
              "1    Another BA Shambles. Started off well with e...   \n",
              "2  Not Verified   BA cancelled my flight home to ...   \n",
              "3  Not Verified   BA cancelled my flight home, th...   \n",
              "\n",
              "                                          text_token  \\\n",
              "0  [Old, A320, narrow, pitch, Flight, perfectly, ...   \n",
              "1  [Another, BA, Shambles, Started, well, excelle...   \n",
              "2  [Not, Verified, BA, cancelled, flight, home, H...   \n",
              "3  [Not, Verified, BA, cancelled, flight, home, l...   \n",
              "\n",
              "                                         text_string  \\\n",
              "0  Old A320 narrow pitch Flight perfectly time co...   \n",
              "1  Another Shambles Started well excellent check ...   \n",
              "2  Not Verified cancelled flight home Heathrow De...   \n",
              "3  Not Verified cancelled flight home last flight...   \n",
              "\n",
              "                                   text_string_fdist  \\\n",
              "0  Old A320 narrow pitch Flight perfectly time co...   \n",
              "1  Another Shambles Started well excellent check ...   \n",
              "2  Not Verified cancelled flight home Heathrow De...   \n",
              "3  Not Verified cancelled flight home last flight...   \n",
              "\n",
              "                                            polarity    neg    neu    pos  \\\n",
              "0  {'neg': 0.0, 'neu': 0.584, 'pos': 0.416, 'comp...  0.000  0.584  0.416   \n",
              "1  {'neg': 0.096, 'neu': 0.675, 'pos': 0.229, 'co...  0.096  0.675  0.229   \n",
              "2  {'neg': 0.177, 'neu': 0.699, 'pos': 0.123, 'co...  0.177  0.699  0.123   \n",
              "3  {'neg': 0.096, 'neu': 0.785, 'pos': 0.119, 'co...  0.096  0.785  0.119   \n",
              "\n",
              "   compound sentiment  \n",
              "0    0.8934  positive  \n",
              "1    0.9670  positive  \n",
              "2   -0.7565  negative  \n",
              "3    0.0520  positive  "
            ],
            "text/html": [
              "\n",
              "  <div id=\"df-4ca4c6a1-c5aa-4f11-abba-0a79aa657a28\">\n",
              "    <div class=\"colab-df-container\">\n",
              "      <div>\n",
              "<style scoped>\n",
              "    .dataframe tbody tr th:only-of-type {\n",
              "        vertical-align: middle;\n",
              "    }\n",
              "\n",
              "    .dataframe tbody tr th {\n",
              "        vertical-align: top;\n",
              "    }\n",
              "\n",
              "    .dataframe thead th {\n",
              "        text-align: right;\n",
              "    }\n",
              "</style>\n",
              "<table border=\"1\" class=\"dataframe\">\n",
              "  <thead>\n",
              "    <tr style=\"text-align: right;\">\n",
              "      <th></th>\n",
              "      <th>reviews</th>\n",
              "      <th>text_token</th>\n",
              "      <th>text_string</th>\n",
              "      <th>text_string_fdist</th>\n",
              "      <th>polarity</th>\n",
              "      <th>neg</th>\n",
              "      <th>neu</th>\n",
              "      <th>pos</th>\n",
              "      <th>compound</th>\n",
              "      <th>sentiment</th>\n",
              "    </tr>\n",
              "  </thead>\n",
              "  <tbody>\n",
              "    <tr>\n",
              "      <th>0</th>\n",
              "      <td>Old A320 with narrow pitch. Flight perfectly...</td>\n",
              "      <td>[Old, A320, narrow, pitch, Flight, perfectly, ...</td>\n",
              "      <td>Old A320 narrow pitch Flight perfectly time co...</td>\n",
              "      <td>Old A320 narrow pitch Flight perfectly time co...</td>\n",
              "      <td>{'neg': 0.0, 'neu': 0.584, 'pos': 0.416, 'comp...</td>\n",
              "      <td>0.000</td>\n",
              "      <td>0.584</td>\n",
              "      <td>0.416</td>\n",
              "      <td>0.8934</td>\n",
              "      <td>positive</td>\n",
              "    </tr>\n",
              "    <tr>\n",
              "      <th>1</th>\n",
              "      <td>Another BA Shambles. Started off well with e...</td>\n",
              "      <td>[Another, BA, Shambles, Started, well, excelle...</td>\n",
              "      <td>Another Shambles Started well excellent check ...</td>\n",
              "      <td>Another Shambles Started well excellent check ...</td>\n",
              "      <td>{'neg': 0.096, 'neu': 0.675, 'pos': 0.229, 'co...</td>\n",
              "      <td>0.096</td>\n",
              "      <td>0.675</td>\n",
              "      <td>0.229</td>\n",
              "      <td>0.9670</td>\n",
              "      <td>positive</td>\n",
              "    </tr>\n",
              "    <tr>\n",
              "      <th>2</th>\n",
              "      <td>Not Verified   BA cancelled my flight home to ...</td>\n",
              "      <td>[Not, Verified, BA, cancelled, flight, home, H...</td>\n",
              "      <td>Not Verified cancelled flight home Heathrow De...</td>\n",
              "      <td>Not Verified cancelled flight home Heathrow De...</td>\n",
              "      <td>{'neg': 0.177, 'neu': 0.699, 'pos': 0.123, 'co...</td>\n",
              "      <td>0.177</td>\n",
              "      <td>0.699</td>\n",
              "      <td>0.123</td>\n",
              "      <td>-0.7565</td>\n",
              "      <td>negative</td>\n",
              "    </tr>\n",
              "    <tr>\n",
              "      <th>3</th>\n",
              "      <td>Not Verified   BA cancelled my flight home, th...</td>\n",
              "      <td>[Not, Verified, BA, cancelled, flight, home, l...</td>\n",
              "      <td>Not Verified cancelled flight home last flight...</td>\n",
              "      <td>Not Verified cancelled flight home last flight...</td>\n",
              "      <td>{'neg': 0.096, 'neu': 0.785, 'pos': 0.119, 'co...</td>\n",
              "      <td>0.096</td>\n",
              "      <td>0.785</td>\n",
              "      <td>0.119</td>\n",
              "      <td>0.0520</td>\n",
              "      <td>positive</td>\n",
              "    </tr>\n",
              "  </tbody>\n",
              "</table>\n",
              "</div>\n",
              "      <button class=\"colab-df-convert\" onclick=\"convertToInteractive('df-4ca4c6a1-c5aa-4f11-abba-0a79aa657a28')\"\n",
              "              title=\"Convert this dataframe to an interactive table.\"\n",
              "              style=\"display:none;\">\n",
              "        \n",
              "  <svg xmlns=\"http://www.w3.org/2000/svg\" height=\"24px\"viewBox=\"0 0 24 24\"\n",
              "       width=\"24px\">\n",
              "    <path d=\"M0 0h24v24H0V0z\" fill=\"none\"/>\n",
              "    <path d=\"M18.56 5.44l.94 2.06.94-2.06 2.06-.94-2.06-.94-.94-2.06-.94 2.06-2.06.94zm-11 1L8.5 8.5l.94-2.06 2.06-.94-2.06-.94L8.5 2.5l-.94 2.06-2.06.94zm10 10l.94 2.06.94-2.06 2.06-.94-2.06-.94-.94-2.06-.94 2.06-2.06.94z\"/><path d=\"M17.41 7.96l-1.37-1.37c-.4-.4-.92-.59-1.43-.59-.52 0-1.04.2-1.43.59L10.3 9.45l-7.72 7.72c-.78.78-.78 2.05 0 2.83L4 21.41c.39.39.9.59 1.41.59.51 0 1.02-.2 1.41-.59l7.78-7.78 2.81-2.81c.8-.78.8-2.07 0-2.86zM5.41 20L4 18.59l7.72-7.72 1.47 1.35L5.41 20z\"/>\n",
              "  </svg>\n",
              "      </button>\n",
              "      \n",
              "  <style>\n",
              "    .colab-df-container {\n",
              "      display:flex;\n",
              "      flex-wrap:wrap;\n",
              "      gap: 12px;\n",
              "    }\n",
              "\n",
              "    .colab-df-convert {\n",
              "      background-color: #E8F0FE;\n",
              "      border: none;\n",
              "      border-radius: 50%;\n",
              "      cursor: pointer;\n",
              "      display: none;\n",
              "      fill: #1967D2;\n",
              "      height: 32px;\n",
              "      padding: 0 0 0 0;\n",
              "      width: 32px;\n",
              "    }\n",
              "\n",
              "    .colab-df-convert:hover {\n",
              "      background-color: #E2EBFA;\n",
              "      box-shadow: 0px 1px 2px rgba(60, 64, 67, 0.3), 0px 1px 3px 1px rgba(60, 64, 67, 0.15);\n",
              "      fill: #174EA6;\n",
              "    }\n",
              "\n",
              "    [theme=dark] .colab-df-convert {\n",
              "      background-color: #3B4455;\n",
              "      fill: #D2E3FC;\n",
              "    }\n",
              "\n",
              "    [theme=dark] .colab-df-convert:hover {\n",
              "      background-color: #434B5C;\n",
              "      box-shadow: 0px 1px 3px 1px rgba(0, 0, 0, 0.15);\n",
              "      filter: drop-shadow(0px 1px 2px rgba(0, 0, 0, 0.3));\n",
              "      fill: #FFFFFF;\n",
              "    }\n",
              "  </style>\n",
              "\n",
              "      <script>\n",
              "        const buttonEl =\n",
              "          document.querySelector('#df-4ca4c6a1-c5aa-4f11-abba-0a79aa657a28 button.colab-df-convert');\n",
              "        buttonEl.style.display =\n",
              "          google.colab.kernel.accessAllowed ? 'block' : 'none';\n",
              "\n",
              "        async function convertToInteractive(key) {\n",
              "          const element = document.querySelector('#df-4ca4c6a1-c5aa-4f11-abba-0a79aa657a28');\n",
              "          const dataTable =\n",
              "            await google.colab.kernel.invokeFunction('convertToInteractive',\n",
              "                                                     [key], {});\n",
              "          if (!dataTable) return;\n",
              "\n",
              "          const docLinkHtml = 'Like what you see? Visit the ' +\n",
              "            '<a target=\"_blank\" href=https://colab.research.google.com/notebooks/data_table.ipynb>data table notebook</a>'\n",
              "            + ' to learn more about interactive tables.';\n",
              "          element.innerHTML = '';\n",
              "          dataTable['output_type'] = 'display_data';\n",
              "          await google.colab.output.renderOutput(dataTable, element);\n",
              "          const docLink = document.createElement('div');\n",
              "          docLink.innerHTML = docLinkHtml;\n",
              "          element.appendChild(docLink);\n",
              "        }\n",
              "      </script>\n",
              "    </div>\n",
              "  </div>\n",
              "  "
            ]
          },
          "metadata": {},
          "execution_count": 37
        }
      ]
    },
    {
      "cell_type": "code",
      "source": [
        "# Tweet with highest positive sentiment\n",
        "df.loc[df['compound'].idxmax()].values"
      ],
      "metadata": {
        "colab": {
          "base_uri": "https://localhost:8080/"
        },
        "id": "cbTjnSYK8IiC",
        "outputId": "25f5a43f-0a1a-4377-c4e2-48e4af797dfd"
      },
      "execution_count": 38,
      "outputs": [
        {
          "output_type": "execute_result",
          "data": {
            "text/plain": [
              "array(['  I was supposed to fly with Aeroflot on the 23rd of December to Moscow. But because Russia has closed its borders, like the majority of other countries, the flight was canceled, and I couldn’t get home. I’ve also tried to fly through Antalya, but the same situation occurred. On my third try, I came to Heathrow and tried to fly away to Cairo. I was declined by another company. Then I went to British Airways. Starting from testing (because Egypt requires tests), as stressful as the whole situation was, the employees were outstanding! (I’m not sure is it connected to BA, but still, I want to mention this). The crew was very helpful and extremely understanding, very professional and urgent to help, they have been a great help and I am very gracious for this. I want to separately point out one employee - Shanell (if I am not mistaken, who works at Collision testing center in Heathrow Terminal 5). She is a savior and most importantly a human, which is very rare nowadays! Carrying on, I went to BA check-in, but unfortunately couldn’t do it, as my results didn’t go through yet. However, another outstanding employee who provided great help called her colleagues and arranged for the booking to be frozen until the results arrive. I’ve come to her 3 times with additional questions, and every time she was very patient, professional, and happy to help. After I got my results I came back to Heathrow on 24th, but unfortunately, there were no flights to Cairo, the situation became even more complicated (I will spare the details). However, here again, brilliant employees of BA offered their personal assistance and showed sympathy and humanity towards me. The nicest lady I’ve ever met, unfortunately, I didn’t catch her name, but I am aware it was her first day at BA and that she is Egyptian, followed me throughout my struggles, offered me emotional and professional support. She tried to find any possible ways for me to get back home and actually did. She was open to any kind of help and was enormously helpful for which I can’t thank her enough. She also asked her colleague to help me, which he kindly did.  Lastly, the nice lady (shame I don’t know her name) also shared my struggles with her colleague Mani who came to substitute her on the position. He was very friendly and attentive as well, talked me through the process, offered different ways I can stay at the airport, gave his phone to call, and offered to drop me off at the hotel, which he did not have to do whatsoever. To conclude, I merely want to thank all of these individuals one more time, as they have been a great help both in physical and mental aspects, I honestly do not know what would I do if I haven’t met them. I don’t know was I just lucky to meet these people or all BA employees are of the same morality, but I do want to thank BA for hiring and providing jobs for these great human beings as well as upholding the standard for other airlines! For some people, the help that was provided to me might seem like a normal thing to do. However, for me, it was a pleasant and so much needed surprise. As no one in',\n",
              "       list(['I', 'supposed', 'fly', 'Aeroflot', '23rd', 'December', 'Moscow', 'But', 'Russia', 'closed', 'borders', 'like', 'majority', 'countries', 'flight', 'canceled', 'I', 'get', 'home', 'I', 'also', 'tried', 'fly', 'Antalya', 'situation', 'occurred', 'On', 'third', 'try', 'I', 'came', 'Heathrow', 'tried', 'fly', 'away', 'Cairo', 'I', 'declined', 'another', 'company', 'Then', 'I', 'went', 'British', 'Airways', 'Starting', 'testing', 'Egypt', 'requires', 'tests', 'stressful', 'whole', 'situation', 'employees', 'outstanding', 'I', 'sure', 'connected', 'BA', 'still', 'I', 'want', 'mention', 'The', 'crew', 'helpful', 'extremely', 'understanding', 'professional', 'urgent', 'help', 'great', 'help', 'I', 'gracious', 'I', 'want', 'separately', 'point', 'one', 'employee', 'Shanell', 'I', 'mistaken', 'works', 'Collision', 'testing', 'center', 'Heathrow', 'Terminal', '5', 'She', 'savior', 'importantly', 'human', 'rare', 'nowadays', 'Carrying', 'I', 'went', 'BA', 'check', 'unfortunately', 'results', 'go', 'yet', 'However', 'another', 'outstanding', 'employee', 'provided', 'great', 'help', 'called', 'colleagues', 'arranged', 'booking', 'frozen', 'results', 'arrive', 'I', 'come', '3', 'times', 'additional', 'questions', 'every', 'time', 'patient', 'professional', 'happy', 'help', 'After', 'I', 'got', 'results', 'I', 'came', 'back', 'Heathrow', '24th', 'unfortunately', 'flights', 'Cairo', 'situation', 'became', 'even', 'complicated', 'I', 'spare', 'details', 'However', 'brilliant', 'employees', 'BA', 'offered', 'personal', 'assistance', 'showed', 'sympathy', 'humanity', 'towards', 'The', 'nicest', 'lady', 'I', 'ever', 'met', 'unfortunately', 'I', 'catch', 'name', 'I', 'aware', 'first', 'day', 'BA', 'Egyptian', 'followed', 'throughout', 'struggles', 'offered', 'emotional', 'professional', 'support', 'She', 'tried', 'find', 'possible', 'ways', 'get', 'back', 'home', 'actually', 'She', 'open', 'kind', 'help', 'enormously', 'helpful', 'I', 'thank', 'enough', 'She', 'also', 'asked', 'colleague', 'help', 'kindly', 'Lastly', 'nice', 'lady', 'shame', 'I', 'know', 'name', 'also', 'shared', 'struggles', 'colleague', 'Mani', 'came', 'substitute', 'position', 'He', 'friendly', 'attentive', 'well', 'talked', 'process', 'offered', 'different', 'ways', 'I', 'stay', 'airport', 'gave', 'phone', 'call', 'offered', 'drop', 'hotel', 'whatsoever', 'To', 'conclude', 'I', 'merely', 'want', 'thank', 'individuals', 'one', 'time', 'great', 'help', 'physical', 'mental', 'aspects', 'I', 'honestly', 'know', 'would', 'I', 'I', 'met', 'I', 'know', 'I', 'lucky', 'meet', 'people', 'BA', 'employees', 'morality', 'I', 'want', 'thank', 'BA', 'hiring', 'providing', 'jobs', 'great', 'human', 'beings', 'well', 'upholding', 'standard', 'airlines', 'For', 'people', 'help', 'provided', 'might', 'seem', 'like', 'normal', 'thing', 'However', 'pleasant', 'much', 'needed', 'surprise', 'As', 'one']),\n",
              "       'supposed fly Aeroflot 23rd December Moscow But Russia closed borders like majority countries flight canceled get home also tried fly Antalya situation occurred third try came Heathrow tried fly away Cairo declined another company Then went British Airways Starting testing Egypt requires tests stressful whole situation employees outstanding sure connected still want mention The crew helpful extremely understanding professional urgent help great help gracious want separately point one employee Shanell mistaken works Collision testing center Heathrow Terminal She savior importantly human rare nowadays Carrying went check unfortunately results yet However another outstanding employee provided great help called colleagues arranged booking frozen results arrive come times additional questions every time patient professional happy help After got results came back Heathrow 24th unfortunately flights Cairo situation became even complicated spare details However brilliant employees offered personal assistance showed sympathy humanity towards The nicest lady ever met unfortunately catch name aware first day Egyptian followed throughout struggles offered emotional professional support She tried find possible ways get back home actually She open kind help enormously helpful thank enough She also asked colleague help kindly Lastly nice lady shame know name also shared struggles colleague Mani came substitute position friendly attentive well talked process offered different ways stay airport gave phone call offered drop hotel whatsoever conclude merely want thank individuals one time great help physical mental aspects honestly know would met know lucky meet people employees morality want thank hiring providing jobs great human beings well upholding standard airlines For people help provided might seem like normal thing However pleasant much needed surprise one',\n",
              "       'supposed fly Aeroflot 23rd December Moscow But Russia closed borders like majority countries flight canceled get home also tried fly Antalya situation occurred third try came Heathrow tried fly away Cairo declined another company Then went British Airways Starting testing Egypt requires tests stressful whole situation employees outstanding sure connected still want mention The crew helpful extremely understanding professional urgent help great help gracious want separately point one employee Shanell mistaken works Collision testing center Heathrow Terminal She savior importantly human rare nowadays Carrying went check unfortunately results yet However another outstanding employee provided great help called colleagues arranged booking frozen results arrive come times additional questions every time patient professional happy help After got results came back Heathrow 24th unfortunately flights Cairo situation became even complicated spare details However brilliant employees offered personal assistance showed sympathy humanity towards The nicest lady ever met unfortunately catch name aware first day Egyptian followed throughout struggles offered emotional professional support She tried find possible ways get back home actually She open kind help enormously helpful thank enough She also asked colleague help kindly Lastly nice lady shame know name also shared struggles colleague Mani came substitute position friendly attentive well talked process offered different ways stay airport gave phone call offered drop hotel whatsoever conclude merely want thank individuals one time great help physical mental aspects honestly know would met know lucky meet people employees morality want thank hiring providing jobs great human beings well upholding standard airlines For people help provided might seem like normal thing However pleasant much needed surprise one',\n",
              "       {'neg': 0.082, 'neu': 0.502, 'pos': 0.415, 'compound': 0.9992},\n",
              "       0.082, 0.502, 0.415, 0.9992, 'positive'], dtype=object)"
            ]
          },
          "metadata": {},
          "execution_count": 38
        }
      ]
    },
    {
      "cell_type": "code",
      "source": [
        "# Tweet with highest negative sentiment \n",
        "# ...seems to be a case of wrong classification because of the word \"deficit\"\n",
        "df.loc[df['compound'].idxmin()].values"
      ],
      "metadata": {
        "colab": {
          "base_uri": "https://localhost:8080/"
        },
        "id": "ynvmuHmx8Ik_",
        "outputId": "cd4f0434-a528-40f2-9e84-f10188237a5b"
      },
      "execution_count": 39,
      "outputs": [
        {
          "output_type": "execute_result",
          "data": {
            "text/plain": [
              "array([\"  Hong Kong to Copenhagen via London. The whole experience is a nightmare to me and my wife. My wife lost her luggage ever since the first day of our journey on 1st August because our two pieces of luggage were left in Heathrow Airport by BA staff when we took the transit flight from the UK to Copenhagen. We went to Menzies in CPH and they filed a repor. We stated in the missing report that if the luggage was found, they should be sent to our air b&b house in Marstal in CPH on or before 3rd August or deliver to the hotel we stayed in CPH if they were found on 4th August. On 2nd August, we found that the updated status of our missing luggage in the BA website showed that one of our luggage was found while another one had a possible match. Therefore, we kept phoning and emailing Menzies staff to urge them to send the luggage to our house but they failed to do so. And the website status showed that we chose to pick up the luggage in the airport, which was not our preference but we failed to change the preference on the website as it was preset. The system even changed the latest delivery date to 3th August 2020 instead of 2019 and we could not correct it by ourselves! On 3rd August, Menzies staff still failed to deliver the luggage to us so we told them we decided to pick them up at the airport. Unfortunately, when we went to the CPH airport on the 4th August, they told us that they had already sent the 'found' luggage to the island in Marstal on 4th. Apparently they did not follow our instructions and sent it to the wrong place on the wrong date. They then asked us to find the other luggage that had been scanned with a possible match randomly in the trolleys outside their office. We did find the other one by ourselves in the airport, which they claimed had been sent to the island but they insisted that it was the possible match one! They were so incompetent and even asked us to complain to the BA to push them to find the baggage for us. We believe that the baggage was the one which was sent to the island but is still missing but the staff messed it up. We were so confused which bag was really missing. We finally decided to ask them to deliver the luggage in Marstal to the airport and send it to the UK address which was our next destination. When we came back to the hotel in the evening on the 4th, we phoned Menzies again and found out that our luggage in Marstal had been sent back to the airport at 8 pm on the 4th. Hence, we decided to pick it up by ourselves on the 5th August before we flew to the UK. However, when we came to the airport again, we couldn't find our luggage and the staff didn't explain why and just told us to leave. If the luggage was sent it to the airport on the 4th, how come it would disappear on the 5th? The staff just kept saying that they were busy and that no one had time to look for the baggage for us. This service was totally unacceptable. We spnet hours parking at the airport and found that we got nothing! You can't imagine how furious and frustrated we were! We are literally sick of phoning Menzies staff every day and not getting anywhere. Now that Menzies staff asked us to pressure BA to in turn pressure them to locate our luggage. That's how ridiculous things have been for us. We are sure that you could do something about it. My wife has lost all her personal belongings since day 1 of our trip.\",\n",
              "       list(['Hong', 'Kong', 'Copenhagen', 'via', 'London', 'The', 'whole', 'experience', 'nightmare', 'wife', 'My', 'wife', 'lost', 'luggage', 'ever', 'since', 'first', 'day', 'journey', '1st', 'August', 'two', 'pieces', 'luggage', 'left', 'Heathrow', 'Airport', 'BA', 'staff', 'took', 'transit', 'flight', 'UK', 'Copenhagen', 'We', 'went', 'Menzies', 'CPH', 'filed', 'repor', 'We', 'stated', 'missing', 'report', 'luggage', 'found', 'sent', 'air', 'b', 'b', 'house', 'Marstal', 'CPH', '3rd', 'August', 'deliver', 'hotel', 'stayed', 'CPH', 'found', '4th', 'August', 'On', '2nd', 'August', 'found', 'updated', 'status', 'missing', 'luggage', 'BA', 'website', 'showed', 'one', 'luggage', 'found', 'another', 'one', 'possible', 'match', 'Therefore', 'kept', 'phoning', 'emailing', 'Menzies', 'staff', 'urge', 'send', 'luggage', 'house', 'failed', 'And', 'website', 'status', 'showed', 'chose', 'pick', 'luggage', 'airport', 'preference', 'failed', 'change', 'preference', 'website', 'preset', 'The', 'system', 'even', 'changed', 'latest', 'delivery', 'date', '3th', 'August', '2020', 'instead', '2019', 'could', 'correct', 'On', '3rd', 'August', 'Menzies', 'staff', 'still', 'failed', 'deliver', 'luggage', 'us', 'told', 'decided', 'pick', 'airport', 'Unfortunately', 'went', 'CPH', 'airport', '4th', 'August', 'told', 'us', 'already', 'sent', 'found', 'luggage', 'island', 'Marstal', '4th', 'Apparently', 'follow', 'instructions', 'sent', 'wrong', 'place', 'wrong', 'date', 'They', 'asked', 'us', 'find', 'luggage', 'scanned', 'possible', 'match', 'randomly', 'trolleys', 'outside', 'office', 'We', 'find', 'one', 'airport', 'claimed', 'sent', 'island', 'insisted', 'possible', 'match', 'one', 'They', 'incompetent', 'even', 'asked', 'us', 'complain', 'BA', 'push', 'find', 'baggage', 'us', 'We', 'believe', 'baggage', 'one', 'sent', 'island', 'still', 'missing', 'staff', 'messed', 'We', 'confused', 'bag', 'really', 'missing', 'We', 'finally', 'decided', 'ask', 'deliver', 'luggage', 'Marstal', 'airport', 'send', 'UK', 'address', 'next', 'destination', 'When', 'came', 'back', 'hotel', 'evening', '4th', 'phoned', 'Menzies', 'found', 'luggage', 'Marstal', 'sent', 'back', 'airport', '8', 'pm', '4th', 'Hence', 'decided', 'pick', '5th', 'August', 'flew', 'UK', 'However', 'came', 'airport', 'find', 'luggage', 'staff', 'explain', 'told', 'us', 'leave', 'If', 'luggage', 'sent', 'airport', '4th', 'come', 'would', 'disappear', '5th', 'The', 'staff', 'kept', 'saying', 'busy', 'one', 'time', 'look', 'baggage', 'us', 'This', 'service', 'totally', 'unacceptable', 'We', 'spnet', 'hours', 'parking', 'airport', 'found', 'got', 'nothing', 'You', 'imagine', 'furious', 'frustrated', 'We', 'literally', 'sick', 'phoning', 'Menzies', 'staff', 'every', 'day', 'getting', 'anywhere', 'Now', 'Menzies', 'staff', 'asked', 'us', 'pressure', 'BA', 'turn', 'pressure', 'locate', 'luggage', 'That', 'ridiculous', 'things', 'us', 'We', 'sure', 'could', 'something', 'My', 'wife', 'lost', 'personal', 'belongings', 'since', 'day', '1', 'trip']),\n",
              "       'Hong Kong Copenhagen via London The whole experience nightmare wife wife lost luggage ever since first day journey 1st August two pieces luggage left Heathrow Airport staff took transit flight Copenhagen went Menzies CPH filed repor stated missing report luggage found sent air house Marstal CPH 3rd August deliver hotel stayed CPH found 4th August 2nd August found updated status missing luggage website showed one luggage found another one possible match Therefore kept phoning emailing Menzies staff urge send luggage house failed And website status showed chose pick luggage airport preference failed change preference website preset The system even changed latest delivery date 3th August 2020 instead 2019 could correct 3rd August Menzies staff still failed deliver luggage told decided pick airport Unfortunately went CPH airport 4th August told already sent found luggage island Marstal 4th Apparently follow instructions sent wrong place wrong date They asked find luggage scanned possible match randomly trolleys outside office find one airport claimed sent island insisted possible match one They incompetent even asked complain push find baggage believe baggage one sent island still missing staff messed confused bag really missing finally decided ask deliver luggage Marstal airport send address next destination When came back hotel evening 4th phoned Menzies found luggage Marstal sent back airport 4th Hence decided pick 5th August flew However came airport find luggage staff explain told leave luggage sent airport 4th come would disappear 5th The staff kept saying busy one time look baggage This service totally unacceptable spnet hours parking airport found got nothing You imagine furious frustrated literally sick phoning Menzies staff every day getting anywhere Now Menzies staff asked pressure turn pressure locate luggage That ridiculous things sure could something wife lost personal belongings since day trip',\n",
              "       'Hong Kong Copenhagen via London The whole experience nightmare wife wife lost luggage ever since first day journey 1st August two pieces luggage left Heathrow Airport staff took transit flight Copenhagen went Menzies CPH filed repor stated missing report luggage found sent air house Marstal CPH 3rd August deliver hotel stayed CPH found 4th August 2nd August found updated status missing luggage website showed one luggage found another one possible match Therefore kept phoning emailing Menzies staff urge send luggage house failed And website status showed chose pick luggage airport preference failed change preference website preset The system even changed latest delivery date 3th August 2020 instead 2019 could correct 3rd August Menzies staff still failed deliver luggage told decided pick airport Unfortunately went CPH airport 4th August told already sent found luggage island Marstal 4th Apparently follow instructions sent wrong place wrong date They asked find luggage scanned possible match randomly trolleys outside office find one airport claimed sent island insisted possible match one They incompetent even asked complain push find baggage believe baggage one sent island still missing staff messed confused bag really missing finally decided ask deliver luggage Marstal airport send address next destination When came back hotel evening 4th phoned Menzies found luggage Marstal sent back airport 4th Hence decided pick 5th August flew However came airport find luggage staff explain told leave luggage sent airport 4th come would disappear 5th The staff kept saying busy one time look baggage This service totally unacceptable spnet hours parking airport found got nothing You imagine furious frustrated literally sick phoning Menzies staff every day getting anywhere Now Menzies staff asked pressure turn pressure locate luggage That ridiculous things sure could something wife lost personal belongings since day trip',\n",
              "       {'neg': 0.188, 'neu': 0.796, 'pos': 0.016, 'compound': -0.9939},\n",
              "       0.188, 0.796, 0.016, -0.9939, 'negative'], dtype=object)"
            ]
          },
          "metadata": {},
          "execution_count": 39
        }
      ]
    },
    {
      "cell_type": "code",
      "source": [
        "#Visualize data\n",
        "# Number of tweets \n",
        "sns.countplot(y='sentiment', \n",
        "             data=df, \n",
        "             palette=['#b2d8d8',\"#008080\", '#db3d13']\n",
        "             );"
      ],
      "metadata": {
        "colab": {
          "base_uri": "https://localhost:8080/",
          "height": 285
        },
        "id": "3AwcQsrr8Inz",
        "outputId": "d0d9798b-70d4-40c9-dbfb-3ee054ba326e"
      },
      "execution_count": 40,
      "outputs": [
        {
          "output_type": "display_data",
          "data": {
            "text/plain": [
              "<Figure size 432x288 with 1 Axes>"
            ],
            "image/png": "[encoded data removed]"
          },
          "metadata": {}
        }
      ]
    },
    {
      "cell_type": "code",
      "source": [
        "#grouping by sentiment and to know the proportion\n",
        "\n",
        "df.groupby('sentiment')['sentiment'].count()"
      ],
      "metadata": {
        "colab": {
          "base_uri": "https://localhost:8080/"
        },
        "id": "yjsAIYEnh1Zd",
        "outputId": "9a1f81a4-d578-4876-d72a-f24b0660945d"
      },
      "execution_count": 45,
      "outputs": [
        {
          "output_type": "execute_result",
          "data": {
            "text/plain": [
              "sentiment\n",
              "negative    363\n",
              "neutral       9\n",
              "positive    628\n",
              "Name: sentiment, dtype: int64"
            ]
          },
          "metadata": {},
          "execution_count": 45
        }
      ]
    },
    {
      "cell_type": "code",
      "source": [
        "#Calculating the percentages\n",
        "\n",
        "total = 363 + 9 + 628\n",
        "\n",
        "Positive_prop = (628/total) * 100\n",
        "\n",
        "negative_prop = (363/total) * 100\n",
        "\n",
        "neutral_prop = (9/total) * 100\n",
        "\n",
        "print(Positive_prop,'-----------------', negative_prop,'------------------','---------------------',neutral_prop)"
      ],
      "metadata": {
        "colab": {
          "base_uri": "https://localhost:8080/"
        },
        "id": "LDh8yfGDioTX",
        "outputId": "c90fb554-3cc3-44cd-d7a1-05de0d400be1"
      },
      "execution_count": 50,
      "outputs": [
        {
          "output_type": "stream",
          "name": "stdout",
          "text": [
            "62.8 ----------------- 36.3 ------------------ --------------------- 0.8999999999999999\n"
          ]
        }
      ]
    }
  ],
  "metadata": {
    "kernelspec": {
      "display_name": "Python 3.9.13 ('venv': venv)",
      "language": "python",
      "name": "python3"
    },
    "language_info": {
      "codemirror_mode": {
        "name": "ipython",
        "version": 3
      },
      "file_extension": ".py",
      "mimetype": "text/x-python",
      "name": "python",
      "nbconvert_exporter": "python",
      "pygments_lexer": "ipython3",
      "version": "3.9.13"
    },
    "orig_nbformat": 4,
    "vscode": {
      "interpreter": {
        "hash": "4f7924c4c56b083e0e50eadfe7ef592a7a8ef70df33a0047f82280e6be1afe15"
      }
    },
    "colab": {
      "provenance": []
    }
  },
  "nbformat": 4,
  "nbformat_minor": 0
}